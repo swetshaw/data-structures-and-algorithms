{
  "nbformat": 4,
  "nbformat_minor": 0,
  "metadata": {
    "colab": {
      "name": "Array.ipynb",
      "provenance": [],
      "collapsed_sections": [
        "j3piItpozEiF"
      ]
    },
    "kernelspec": {
      "name": "python3",
      "display_name": "Python 3"
    }
  },
  "cells": [
    {
      "cell_type": "markdown",
      "metadata": {
        "id": "9R0QYpPxebvc"
      },
      "source": [
        "# 1. Write a program to reverse an array or string\r\n",
        "\r\n",
        "\r\n",
        "\r\n",
        "\r\n",
        "\r\n"
      ]
    },
    {
      "cell_type": "code",
      "metadata": {
        "id": "B3cRQ7tweXKb"
      },
      "source": [
        "def reverse(s):\r\n",
        "    return s[::-1]\r\n"
      ],
      "execution_count": null,
      "outputs": []
    },
    {
      "cell_type": "code",
      "metadata": {
        "colab": {
          "base_uri": "https://localhost:8080/"
        },
        "id": "WQzffnqSfWxG",
        "outputId": "89112cd6-b979-4f6f-c40d-de124b23b4fb"
      },
      "source": [
        "print(reverse(\"Sweta\"))\r\n",
        "arr = [\"Sweta\", 34, 89]\r\n",
        "print(reverse(arr))"
      ],
      "execution_count": null,
      "outputs": []
    },
    {
      "cell_type": "markdown",
      "metadata": {
        "id": "34rBLTIWgLVj"
      },
      "source": [
        "# 2. Maximum and minimum of an array using minimum number of comparisons"
      ]
    },
    {
      "cell_type": "markdown",
      "metadata": {
        "id": "9yTwtbcPh_eW"
      },
      "source": [
        "### Method 1\r\n",
        "\r\n",
        "No. of comparisons = 2n"
      ]
    },
    {
      "cell_type": "code",
      "metadata": {
        "id": "NOtAIdXMgPOV"
      },
      "source": [
        "def maxMin(a):\r\n",
        "    max = a[0]\r\n",
        "    min = a[0]\r\n",
        "    for item in a:\r\n",
        "        if item > max:\r\n",
        "            max = item\r\n",
        "        if item < min:\r\n",
        "            min = item\r\n",
        "    \r\n",
        "    return max, min\r\n"
      ],
      "execution_count": null,
      "outputs": []
    },
    {
      "cell_type": "code",
      "metadata": {
        "colab": {
          "base_uri": "https://localhost:8080/"
        },
        "id": "GbM1PPpHg1vF",
        "outputId": "8ea12a09-405e-479e-b119-a75a246e0e1f"
      },
      "source": [
        "a = [45, 8, 90, 87, 56]\r\n",
        "maxMin(a)"
      ],
      "execution_count": null,
      "outputs": []
    },
    {
      "cell_type": "markdown",
      "metadata": {
        "id": "1iwC2FyliEn3"
      },
      "source": [
        "### Method 2\r\n",
        "Pair comparison"
      ]
    },
    {
      "cell_type": "code",
      "metadata": {
        "id": "gtF0sXMBiGVY"
      },
      "source": [
        "def getMinMax(a):\r\n",
        "    n = len(a)\r\n",
        "\r\n",
        "    # if n is even\r\n",
        "    if n%2 ==0:\r\n",
        "        mx = max(a[0], a[1])\r\n",
        "        mn = min(a[0], a[1])\r\n",
        "        i = 2\r\n",
        "    else:\r\n",
        "        mx = mn = a[0]\r\n",
        "        i = 1\r\n",
        "    \r\n",
        "    while(i < n-1):\r\n",
        "        if a[i] > a[i+1]:\r\n",
        "            mx = max(mx, a[i])\r\n",
        "            mn = min(mn, a[i+1])\r\n",
        "        else:\r\n",
        "            mx = max(mx, a[i+1])\r\n",
        "            mn = min(mn, a[i])\r\n",
        "        i += 2\r\n",
        "    \r\n",
        "    return mx, mn"
      ],
      "execution_count": null,
      "outputs": []
    },
    {
      "cell_type": "code",
      "metadata": {
        "colab": {
          "base_uri": "https://localhost:8080/"
        },
        "id": "Od79BqkVueq2",
        "outputId": "fe540930-80d8-4897-ccd0-2bdf2ecd0ace"
      },
      "source": [
        "a = [45, 8, 92, 87, 56, 90, 1]\r\n",
        "getMinMax(a)"
      ],
      "execution_count": null,
      "outputs": []
    },
    {
      "cell_type": "markdown",
      "metadata": {
        "id": "j3piItpozEiF"
      },
      "source": [
        "#3. Find Kth smallest element in an array"
      ]
    },
    {
      "cell_type": "markdown",
      "metadata": {
        "id": "bp-dmTJxTc7C"
      },
      "source": [
        "**Method : QuickSelect Algorithm**"
      ]
    },
    {
      "cell_type": "code",
      "metadata": {
        "id": "5eLUVpesTAUJ"
      },
      "source": [
        "def kthSmallest(arr, l, r, k):\r\n",
        "    '''\r\n",
        "    arr : given array\r\n",
        "    l : starting index of the array i.e 0\r\n",
        "    r : ending index of the array i.e size-1\r\n",
        "    k : find kth smallest element and return using this function\r\n",
        "    '''\r\n",
        "    if (k > 0 and k <= r-l + 1):\r\n",
        "        \r\n",
        "        pos = partition(arr, l , r, k)\r\n",
        "        print(pos)\r\n",
        "        \r\n",
        "        if pos == k-1:\r\n",
        "            return arr[pos]\r\n",
        "        if pos > k-1:\r\n",
        "            return kthSmallest(arr, l, pos-1, k)\r\n",
        "        return kthSmallest(arr, pos+1, r, k-pos+l)\r\n",
        "    \r\n",
        "def partition(arr, l, r, k):\r\n",
        "    pivot = arr[r]\r\n",
        "    i = l-1\r\n",
        "    for j in range(l, r):\r\n",
        "        if arr[j] <= pivot:\r\n",
        "            i += 1\r\n",
        "            arr[i], arr[j] = arr[j], arr[i]\r\n",
        "    arr[i+1], arr[r] = arr[r], arr[i+1]\r\n",
        "    \r\n",
        "    return i+1"
      ],
      "execution_count": null,
      "outputs": []
    },
    {
      "cell_type": "code",
      "metadata": {
        "colab": {
          "base_uri": "https://localhost:8080/"
        },
        "id": "6H_4mygZw--U",
        "outputId": "fec2a5c2-b933-46a8-81ea-ecc9efa39610"
      },
      "source": [
        "arr = [7,10, 4, 3, 20, 15]\r\n",
        "low = 0\r\n",
        "high = len(arr)-1\r\n",
        "k = 3\r\n",
        "num = kthSmallest(arr, low, high, k)\r\n",
        "print(\"{}th smallest number is {}\".format(k, num))\r\n",
        "\r\n",
        "arr"
      ],
      "execution_count": null,
      "outputs": []
    },
    {
      "cell_type": "markdown",
      "metadata": {
        "id": "sGd13hiWiL2R"
      },
      "source": [
        "#4. Sort an array of 0s, 1s and 2s"
      ]
    },
    {
      "cell_type": "markdown",
      "metadata": {
        "id": "V43gopLul6wK"
      },
      "source": [
        "The logic here is to count the number of 0s, 1s and 2s and then traverse the array again to replace the first count of 0s with 0, next with 1s and then 2s."
      ]
    },
    {
      "cell_type": "code",
      "metadata": {
        "colab": {
          "base_uri": "https://localhost:8080/"
        },
        "id": "6BtTme78iXQH",
        "outputId": "ab08b9ab-f81c-46c4-c7ca-0144d108db60"
      },
      "source": [
        "def sort012(arr,n):\r\n",
        "    # code here\r\n",
        "    count_zero = 0\r\n",
        "    count_one = 0\r\n",
        "    count_two = 0\r\n",
        "    for num in arr:\r\n",
        "        if num == 0:\r\n",
        "            count_zero += 1\r\n",
        "        if num == 1:\r\n",
        "            count_one += 1\r\n",
        "        if num == 2:\r\n",
        "            count_two += 1\r\n",
        "    \r\n",
        "    for i in range(count_zero):\r\n",
        "        arr[i] = 0\r\n",
        "    for i in range(count_zero, count_zero+count_one):\r\n",
        "        arr[i] = 1\r\n",
        "    for i in range(count_zero+count_one, count_zero+count_one+count_two):\r\n",
        "        arr[i] = 2\r\n",
        "\r\n",
        "# driver code\r\n",
        "arr = [0, 1, 1, 0, 1, 2, 1, 2, 0, 0, 0, 1] \r\n",
        "n = len(arr) \r\n",
        "\r\n",
        "print(\"**** Unsorted Array ****\")\r\n",
        "print(arr)\r\n",
        "sort012(arr, n) \r\n",
        "print(\"**** Sorted Array ****\")\r\n",
        "print(arr)"
      ],
      "execution_count": null,
      "outputs": []
    },
    {
      "cell_type": "markdown",
      "metadata": {
        "id": "GL4TCRqgmRjZ"
      },
      "source": [
        "#5. Move all negative numbers to beginning and positive to end with no extra space"
      ]
    },
    {
      "cell_type": "code",
      "metadata": {
        "colab": {
          "base_uri": "https://localhost:8080/"
        },
        "id": "CZKzYuDxvIXQ",
        "outputId": "eb2af17f-e227-4f79-c045-94402410f3e2"
      },
      "source": [
        "def rearrange(arr, n):\r\n",
        "    l = 0\r\n",
        "    h = n-1\r\n",
        "    \r\n",
        "    while (l < h):\r\n",
        "        while (arr[l] < 0):\r\n",
        "            l += 1\r\n",
        "        while (arr[h] > 0):\r\n",
        "            h -= 1\r\n",
        "        arr[l], arr[h] = arr[h], arr[l]\r\n",
        "        l += 1\r\n",
        "        h -= 1\r\n",
        "    \r\n",
        "arr = [-1, 2, -3, 4, 5, 6, -7, 8, 9]\r\n",
        "n = len(arr)\r\n",
        "rearrange(arr, n)  \r\n",
        "print(arr)"
      ],
      "execution_count": null,
      "outputs": []
    },
    {
      "cell_type": "markdown",
      "metadata": {
        "id": "ltMDwloNv_xn"
      },
      "source": [
        "#6. Union of two unsorted arrays\r\n",
        "## Given two arrays A and B of size N and M respectively. The task is to find union between these two arrays."
      ]
    },
    {
      "cell_type": "markdown",
      "metadata": {
        "id": "1bMlkvjQ53dd"
      },
      "source": [
        "### Method 1"
      ]
    },
    {
      "cell_type": "code",
      "metadata": {
        "colab": {
          "base_uri": "https://localhost:8080/"
        },
        "id": "AmLTQGKfv2Ze",
        "outputId": "00477def-afc0-4b7b-a810-6d1589f6662a"
      },
      "source": [
        "def doUnion(a,n,b,m):\r\n",
        "    union = []\r\n",
        "    set_a = list(set(a))\r\n",
        "    b = list(set(b))\r\n",
        "    print(set_a)\r\n",
        "    union.extend(set_a)\r\n",
        "    print(union)\r\n",
        "    for item in b:\r\n",
        "        if item not in set_a:\r\n",
        "            union.append(item)\r\n",
        "    print(union)\r\n",
        "    return len(union), union\r\n",
        "\r\n",
        "a = [7, 6, 5, 8, 1, 2]\r\n",
        "b = [1, 3, 2, 4, 1, 0, 2, 3, 0, 1]\r\n",
        "n = 5\r\n",
        "m = 3 \r\n",
        "print(doUnion(a,n,b,m))"
      ],
      "execution_count": null,
      "outputs": []
    },
    {
      "cell_type": "markdown",
      "metadata": {
        "id": "rtM9997j57eU"
      },
      "source": [
        "### Method 2"
      ]
    },
    {
      "cell_type": "code",
      "metadata": {
        "colab": {
          "base_uri": "https://localhost:8080/"
        },
        "id": "wJxSNgMbv8eR",
        "outputId": "b17aaf33-8cd7-4ca4-d257-d2e41d695571"
      },
      "source": [
        "def doUnion(a, b):\r\n",
        "    union = set()\r\n",
        "    for n in a:\r\n",
        "        union.add(n)\r\n",
        "    for n in b:\r\n",
        "        union.add(n)\r\n",
        "    \r\n",
        "    return union, len(union)\r\n",
        "\r\n",
        "a = [7, 6, 5, 8, 1, 2]\r\n",
        "b = [1, 3, 2, 4, 1, 0, 2, 3, 0, 1]\r\n",
        "\r\n",
        "print(doUnion(a, b))\r\n"
      ],
      "execution_count": null,
      "outputs": []
    },
    {
      "cell_type": "markdown",
      "metadata": {
        "id": "LwUo00vW7My0"
      },
      "source": [
        "# 7. Union of two sorted arrays"
      ]
    },
    {
      "cell_type": "code",
      "metadata": {
        "colab": {
          "base_uri": "https://localhost:8080/"
        },
        "id": "yiYamKKw6gxt",
        "outputId": "f2ac9756-edcb-431d-95e6-4794029fe91e"
      },
      "source": [
        "def unionSortedArray(a, b):\r\n",
        "    p1 = 0\r\n",
        "    p2 = 0\r\n",
        "    union = []\r\n",
        "    i = 0\r\n",
        "    if a[p1] < b[p2]:\r\n",
        "        union.append(a[p1])\r\n",
        "        p1 += 1\r\n",
        "    else:\r\n",
        "        union = [b[p2]]\r\n",
        "        p2 += 1\r\n",
        "    \r\n",
        "    while (p1 < len(a) and p2 < len(b)):\r\n",
        "        if (a[p1] < b[p2] and union[i] != a[p1]):\r\n",
        "            union.append(a[p1])\r\n",
        "            p1 += 1\r\n",
        "            i += 1\r\n",
        "        elif (a[p1] > b[p2] and union[i] != b[p2]):\r\n",
        "            union.append(b[p2])\r\n",
        "            p2 += 1\r\n",
        "            i += 1\r\n",
        "        elif (a[p1] == b[p2] and union[i] != a[p1]):\r\n",
        "            union.append(a[p1])\r\n",
        "            p1 += 1\r\n",
        "            p2 += 1\r\n",
        "            i += 1\r\n",
        "    \r\n",
        "    if (p1>= len(a)):\r\n",
        "        if union[i] != b[p2]:\r\n",
        "            union.append(b[p2])\r\n",
        "    elif (p2 >= len(b)):\r\n",
        "        if union[i] != a[p1]:\r\n",
        "            union.append(a[p1])\r\n",
        "    \r\n",
        "    return union\r\n",
        "\r\n",
        "arr1 = [1, 2, 4, 5, 6] \r\n",
        "arr2 = [2, 3, 5, 7] \r\n",
        "print(unionSortedArray(arr1,arr2))\r\n",
        "\r\n"
      ],
      "execution_count": null,
      "outputs": []
    },
    {
      "cell_type": "markdown",
      "metadata": {
        "id": "yFBViA-c3Ri1"
      },
      "source": [
        "# 8. Cyclically rotate an array by one"
      ]
    },
    {
      "cell_type": "code",
      "metadata": {
        "id": "6SJFNk3FQQyO",
        "colab": {
          "base_uri": "https://localhost:8080/"
        },
        "outputId": "b239efa4-5309-41ef-d4d9-7f2b4410f4d8"
      },
      "source": [
        "def rotate( arr, n):\r\n",
        "    last_elem = arr[n-1]\r\n",
        "    for i in range(n-1, 0, -1):\r\n",
        "        arr[i] = arr[i-1]\r\n",
        "    arr[0] = last_elem\r\n",
        "    \r\n",
        "    return arr\r\n",
        "\r\n",
        "arr = [1, 2, 3, 4, 5]\r\n",
        "rotate(arr, 5)\r\n",
        "print(*arr)"
      ],
      "execution_count": null,
      "outputs": []
    },
    {
      "cell_type": "markdown",
      "metadata": {
        "id": "z_3VRRSk3IuR"
      },
      "source": [
        "# 9. Given an array arr of N integers. Find the contiguous sub-array with maximum sum.\r\n",
        "\r\n",
        "## kadane's Algorithm"
      ]
    },
    {
      "cell_type": "markdown",
      "metadata": {
        "id": "FK1bgSY88rVb"
      },
      "source": [
        "### Method 1 - doesn't handle all negative numbers"
      ]
    },
    {
      "cell_type": "code",
      "metadata": {
        "colab": {
          "base_uri": "https://localhost:8080/"
        },
        "id": "rvisFDR9rNx3",
        "outputId": "016c309c-3d4d-48de-ed9e-6821f6568b99"
      },
      "source": [
        "def maxSubArraySum(a,size):\r\n",
        "    ##Your code here\r\n",
        "    maxSum = 0\r\n",
        "    subSum = 0\r\n",
        "    for item in a:\r\n",
        "        subSum += item\r\n",
        "        if subSum > 0:\r\n",
        "            maxSum = max(subSum, maxSum)\r\n",
        "        if subSum<0:\r\n",
        "            subSum = 0\r\n",
        "    \r\n",
        "    return maxSum\r\n",
        "        \r\n",
        "a = [-1,5,-3,90]\r\n",
        "maxSubArraySum(a, 4)"
      ],
      "execution_count": null,
      "outputs": []
    },
    {
      "cell_type": "markdown",
      "metadata": {
        "id": "oAf-VcJy8ycS"
      },
      "source": [
        "### Method 2 - handles all negative numbers"
      ]
    },
    {
      "cell_type": "code",
      "metadata": {
        "colab": {
          "base_uri": "https://localhost:8080/"
        },
        "id": "H8DoVmAI8xti",
        "outputId": "976c8f7b-1720-4f6b-caab-701ac59b1505"
      },
      "source": [
        "def maxSubArraySum(a,size):\r\n",
        "    ##Your code here\r\n",
        "    maxSum = a[0]\r\n",
        "    subSum = a[0]\r\n",
        "    for i in range(1, size):\r\n",
        "        subSum = max(a[i], subSum+a[i])\r\n",
        "        maxSum = max(maxSum, subSum)\r\n",
        "    \r\n",
        "    return maxSum\r\n",
        "\r\n",
        "a = [-1,-5,-3,-90]\r\n",
        "maxSubArraySum(a, 4)"
      ],
      "execution_count": null,
      "outputs": []
    },
    {
      "cell_type": "code",
      "metadata": {
        "id": "083jS8_47iFs"
      },
      "source": [],
      "execution_count": null,
      "outputs": []
    }
  ]
}
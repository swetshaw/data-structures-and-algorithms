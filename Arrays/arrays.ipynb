{
  "nbformat": 4,
  "nbformat_minor": 0,
  "metadata": {
    "colab": {
      "name": "Array.ipynb",
      "provenance": [],
      "collapsed_sections": [
        "j3piItpozEiF"
      ]
    },
    "kernelspec": {
      "name": "python3",
      "display_name": "Python 3"
    }
  },
  "cells": [
    {
      "cell_type": "markdown",
      "metadata": {
        "id": "9R0QYpPxebvc"
      },
      "source": [
        "# 1. Write a program to reverse an array or string\r\n",
        "\r\n",
        "\r\n",
        "\r\n",
        "\r\n",
        "\r\n"
      ]
    },
    {
      "cell_type": "code",
      "metadata": {
        "id": "B3cRQ7tweXKb"
      },
      "source": [
        "def reverse(s):\r\n",
        "    return s[::-1]\r\n"
      ],
      "execution_count": null,
      "outputs": []
    },
    {
      "cell_type": "code",
      "metadata": {
        "id": "WQzffnqSfWxG"
      },
      "source": [
        "print(reverse(\"Sweta\"))\r\n",
        "arr = [\"Sweta\", 34, 89]\r\n",
        "print(reverse(arr))"
      ],
      "execution_count": null,
      "outputs": []
    },
    {
      "cell_type": "markdown",
      "metadata": {
        "id": "34rBLTIWgLVj"
      },
      "source": [
        "# 2. Maximum and minimum of an array using minimum number of comparisons"
      ]
    },
    {
      "cell_type": "markdown",
      "metadata": {
        "id": "9yTwtbcPh_eW"
      },
      "source": [
        "### Method 1\r\n",
        "\r\n",
        "No. of comparisons = 2n"
      ]
    },
    {
      "cell_type": "code",
      "metadata": {
        "id": "NOtAIdXMgPOV"
      },
      "source": [
        "def maxMin(a):\r\n",
        "    max = a[0]\r\n",
        "    min = a[0]\r\n",
        "    for item in a:\r\n",
        "        if item > max:\r\n",
        "            max = item\r\n",
        "        if item < min:\r\n",
        "            min = item\r\n",
        "    \r\n",
        "    return max, min\r\n"
      ],
      "execution_count": null,
      "outputs": []
    },
    {
      "cell_type": "code",
      "metadata": {
        "id": "GbM1PPpHg1vF"
      },
      "source": [
        "a = [45, 8, 90, 87, 56]\r\n",
        "maxMin(a)"
      ],
      "execution_count": null,
      "outputs": []
    },
    {
      "cell_type": "markdown",
      "metadata": {
        "id": "1iwC2FyliEn3"
      },
      "source": [
        "### Method 2\r\n",
        "Pair comparison"
      ]
    },
    {
      "cell_type": "code",
      "metadata": {
        "id": "gtF0sXMBiGVY"
      },
      "source": [
        "def getMinMax(a):\r\n",
        "    n = len(a)\r\n",
        "\r\n",
        "    # if n is even\r\n",
        "    if n%2 ==0:\r\n",
        "        mx = max(a[0], a[1])\r\n",
        "        mn = min(a[0], a[1])\r\n",
        "        i = 2\r\n",
        "    else:\r\n",
        "        mx = mn = a[0]\r\n",
        "        i = 1\r\n",
        "    \r\n",
        "    while(i < n-1):\r\n",
        "        if a[i] > a[i+1]:\r\n",
        "            mx = max(mx, a[i])\r\n",
        "            mn = min(mn, a[i+1])\r\n",
        "        else:\r\n",
        "            mx = max(mx, a[i+1])\r\n",
        "            mn = min(mn, a[i])\r\n",
        "        i += 2\r\n",
        "    \r\n",
        "    return mx, mn"
      ],
      "execution_count": null,
      "outputs": []
    },
    {
      "cell_type": "code",
      "metadata": {
        "id": "Od79BqkVueq2"
      },
      "source": [
        "a = [45, 8, 92, 87, 56, 90, 1]\r\n",
        "getMinMax(a)"
      ],
      "execution_count": null,
      "outputs": []
    },
    {
      "cell_type": "markdown",
      "metadata": {
        "id": "j3piItpozEiF"
      },
      "source": [
        "#3. Find Kth smallest element in an array"
      ]
    },
    {
      "cell_type": "markdown",
      "metadata": {
        "id": "bp-dmTJxTc7C"
      },
      "source": [
        "**Method : QuickSelect Algorithm**"
      ]
    },
    {
      "cell_type": "code",
      "metadata": {
        "id": "5eLUVpesTAUJ"
      },
      "source": [
        "def kthSmallest(arr, l, r, k):\r\n",
        "    '''\r\n",
        "    arr : given array\r\n",
        "    l : starting index of the array i.e 0\r\n",
        "    r : ending index of the array i.e size-1\r\n",
        "    k : find kth smallest element and return using this function\r\n",
        "    '''\r\n",
        "    if (k > 0 and k <= r-l + 1):\r\n",
        "        \r\n",
        "        pos = partition(arr, l , r, k)\r\n",
        "        print(pos)\r\n",
        "        \r\n",
        "        if pos == k-1:\r\n",
        "            return arr[pos]\r\n",
        "        if pos > k-1:\r\n",
        "            return kthSmallest(arr, l, pos-1, k)\r\n",
        "        return kthSmallest(arr, pos+1, r, k-pos+l)\r\n",
        "    \r\n",
        "def partition(arr, l, r, k):\r\n",
        "    pivot = arr[r]\r\n",
        "    i = l-1\r\n",
        "    for j in range(l, r):\r\n",
        "        if arr[j] <= pivot:\r\n",
        "            i += 1\r\n",
        "            arr[i], arr[j] = arr[j], arr[i]\r\n",
        "    arr[i+1], arr[r] = arr[r], arr[i+1]\r\n",
        "    \r\n",
        "    return i+1"
      ],
      "execution_count": null,
      "outputs": []
    },
    {
      "cell_type": "code",
      "metadata": {
        "id": "6H_4mygZw--U"
      },
      "source": [
        "arr = [7,10, 4, 3, 20, 15]\r\n",
        "low = 0\r\n",
        "high = len(arr)-1\r\n",
        "k = 3\r\n",
        "num = kthSmallest(arr, low, high, k)\r\n",
        "print(\"{}th smallest number is {}\".format(k, num))\r\n",
        "\r\n",
        "arr"
      ],
      "execution_count": null,
      "outputs": []
    },
    {
      "cell_type": "markdown",
      "metadata": {
        "id": "sGd13hiWiL2R"
      },
      "source": [
        "#4. Sort an array of 0s, 1s and 2s"
      ]
    },
    {
      "cell_type": "markdown",
      "metadata": {
        "id": "V43gopLul6wK"
      },
      "source": [
        "The logic here is to count the number of 0s, 1s and 2s and then traverse the array again to replace the first count of 0s with 0, next with 1s and then 2s."
      ]
    },
    {
      "cell_type": "code",
      "metadata": {
        "id": "6BtTme78iXQH"
      },
      "source": [
        "def sort012(arr,n):\r\n",
        "    # code here\r\n",
        "    count_zero = 0\r\n",
        "    count_one = 0\r\n",
        "    count_two = 0\r\n",
        "    for num in arr:\r\n",
        "        if num == 0:\r\n",
        "            count_zero += 1\r\n",
        "        if num == 1:\r\n",
        "            count_one += 1\r\n",
        "        if num == 2:\r\n",
        "            count_two += 1\r\n",
        "    \r\n",
        "    for i in range(count_zero):\r\n",
        "        arr[i] = 0\r\n",
        "    for i in range(count_zero, count_zero+count_one):\r\n",
        "        arr[i] = 1\r\n",
        "    for i in range(count_zero+count_one, count_zero+count_one+count_two):\r\n",
        "        arr[i] = 2\r\n",
        "\r\n",
        "# driver code\r\n",
        "arr = [0, 1, 1, 0, 1, 2, 1, 2, 0, 0, 0, 1] \r\n",
        "n = len(arr) \r\n",
        "\r\n",
        "print(\"**** Unsorted Array ****\")\r\n",
        "print(arr)\r\n",
        "sort012(arr, n) \r\n",
        "print(\"**** Sorted Array ****\")\r\n",
        "print(arr)"
      ],
      "execution_count": null,
      "outputs": []
    },
    {
      "cell_type": "markdown",
      "metadata": {
        "id": "GL4TCRqgmRjZ"
      },
      "source": [
        "#5. Move all negative numbers to beginning and positive to end with no extra space"
      ]
    },
    {
      "cell_type": "code",
      "metadata": {
        "id": "CZKzYuDxvIXQ"
      },
      "source": [
        "def rearrange(arr, n):\r\n",
        "    l = 0\r\n",
        "    h = n-1\r\n",
        "    \r\n",
        "    while (l < h):\r\n",
        "        while (arr[l] < 0):\r\n",
        "            l += 1\r\n",
        "        while (arr[h] > 0):\r\n",
        "            h -= 1\r\n",
        "        arr[l], arr[h] = arr[h], arr[l]\r\n",
        "        l += 1\r\n",
        "        h -= 1\r\n",
        "    \r\n",
        "arr = [-1, 2, -3, 4, 5, 6, -7, 8, 9]\r\n",
        "n = len(arr)\r\n",
        "rearrange(arr, n)  \r\n",
        "print(arr)"
      ],
      "execution_count": null,
      "outputs": []
    },
    {
      "cell_type": "markdown",
      "metadata": {
        "id": "ltMDwloNv_xn"
      },
      "source": [
        "#6. Union of two unsorted arrays\r\n",
        "## Given two arrays A and B of size N and M respectively. The task is to find union between these two arrays."
      ]
    },
    {
      "cell_type": "markdown",
      "metadata": {
        "id": "1bMlkvjQ53dd"
      },
      "source": [
        "### Method 1"
      ]
    },
    {
      "cell_type": "code",
      "metadata": {
        "id": "AmLTQGKfv2Ze"
      },
      "source": [
        "def doUnion(a,n,b,m):\r\n",
        "    union = []\r\n",
        "    set_a = list(set(a))\r\n",
        "    b = list(set(b))\r\n",
        "    print(set_a)\r\n",
        "    union.extend(set_a)\r\n",
        "    print(union)\r\n",
        "    for item in b:\r\n",
        "        if item not in set_a:\r\n",
        "            union.append(item)\r\n",
        "    print(union)\r\n",
        "    return len(union), union\r\n",
        "\r\n",
        "a = [7, 6, 5, 8, 1, 2]\r\n",
        "b = [1, 3, 2, 4, 1, 0, 2, 3, 0, 1]\r\n",
        "n = 5\r\n",
        "m = 3 \r\n",
        "print(doUnion(a,n,b,m))"
      ],
      "execution_count": null,
      "outputs": []
    },
    {
      "cell_type": "markdown",
      "metadata": {
        "id": "rtM9997j57eU"
      },
      "source": [
        "### Method 2"
      ]
    },
    {
      "cell_type": "code",
      "metadata": {
        "id": "wJxSNgMbv8eR"
      },
      "source": [
        "def doUnion(a, b):\r\n",
        "    union = set()\r\n",
        "    for n in a:\r\n",
        "        union.add(n)\r\n",
        "    for n in b:\r\n",
        "        union.add(n)\r\n",
        "    \r\n",
        "    return union, len(union)\r\n",
        "\r\n",
        "a = [7, 6, 5, 8, 1, 2]\r\n",
        "b = [1, 3, 2, 4, 1, 0, 2, 3, 0, 1]\r\n",
        "\r\n",
        "print(doUnion(a, b))\r\n"
      ],
      "execution_count": null,
      "outputs": []
    },
    {
      "cell_type": "markdown",
      "metadata": {
        "id": "LwUo00vW7My0"
      },
      "source": [
        "# 7. Union of two sorted arrays"
      ]
    },
    {
      "cell_type": "code",
      "metadata": {
        "id": "yiYamKKw6gxt"
      },
      "source": [
        "def unionSortedArray(a, b):\r\n",
        "    p1 = 0\r\n",
        "    p2 = 0\r\n",
        "    union = []\r\n",
        "    i = 0\r\n",
        "    if a[p1] < b[p2]:\r\n",
        "        union.append(a[p1])\r\n",
        "        p1 += 1\r\n",
        "    else:\r\n",
        "        union = [b[p2]]\r\n",
        "        p2 += 1\r\n",
        "    \r\n",
        "    while (p1 < len(a) and p2 < len(b)):\r\n",
        "        if (a[p1] < b[p2] and union[i] != a[p1]):\r\n",
        "            union.append(a[p1])\r\n",
        "            p1 += 1\r\n",
        "            i += 1\r\n",
        "        elif (a[p1] > b[p2] and union[i] != b[p2]):\r\n",
        "            union.append(b[p2])\r\n",
        "            p2 += 1\r\n",
        "            i += 1\r\n",
        "        elif (a[p1] == b[p2] and union[i] != a[p1]):\r\n",
        "            union.append(a[p1])\r\n",
        "            p1 += 1\r\n",
        "            p2 += 1\r\n",
        "            i += 1\r\n",
        "    \r\n",
        "    if (p1>= len(a)):\r\n",
        "        if union[i] != b[p2]:\r\n",
        "            union.append(b[p2])\r\n",
        "    elif (p2 >= len(b)):\r\n",
        "        if union[i] != a[p1]:\r\n",
        "            union.append(a[p1])\r\n",
        "    \r\n",
        "    return union\r\n",
        "\r\n",
        "arr1 = [1, 2, 4, 5, 6] \r\n",
        "arr2 = [2, 3, 5, 7] \r\n",
        "print(unionSortedArray(arr1,arr2))\r\n",
        "\r\n"
      ],
      "execution_count": null,
      "outputs": []
    },
    {
      "cell_type": "markdown",
      "metadata": {
        "id": "yFBViA-c3Ri1"
      },
      "source": [
        "# 8. Cyclically rotate an array by one"
      ]
    },
    {
      "cell_type": "code",
      "metadata": {
        "id": "6SJFNk3FQQyO"
      },
      "source": [
        "def rotate( arr, n):\r\n",
        "    last_elem = arr[n-1]\r\n",
        "    for i in range(n-1, 0, -1):\r\n",
        "        arr[i] = arr[i-1]\r\n",
        "    arr[0] = last_elem\r\n",
        "    \r\n",
        "    return arr\r\n",
        "\r\n",
        "arr = [1, 2, 3, 4, 5]\r\n",
        "rotate(arr, 5)\r\n",
        "print(*arr)"
      ],
      "execution_count": null,
      "outputs": []
    },
    {
      "cell_type": "markdown",
      "metadata": {
        "id": "z_3VRRSk3IuR"
      },
      "source": [
        "# 9. Given an array arr of N integers. Find the contiguous sub-array with maximum sum.\r\n",
        "\r\n",
        "## kadane's Algorithm"
      ]
    },
    {
      "cell_type": "markdown",
      "metadata": {
        "id": "FK1bgSY88rVb"
      },
      "source": [
        "### Method 1 - doesn't handle all negative numbers"
      ]
    },
    {
      "cell_type": "code",
      "metadata": {
        "id": "rvisFDR9rNx3"
      },
      "source": [
        "def maxSubArraySum(a,size):\r\n",
        "    ##Your code here\r\n",
        "    maxSum = 0\r\n",
        "    subSum = 0\r\n",
        "    for item in a:\r\n",
        "        subSum += item\r\n",
        "        if subSum > 0:\r\n",
        "            maxSum = max(subSum, maxSum)\r\n",
        "        if subSum<0:\r\n",
        "            subSum = 0\r\n",
        "    \r\n",
        "    return maxSum\r\n",
        "        \r\n",
        "a = [-1,5,-3,90]\r\n",
        "maxSubArraySum(a, 4)"
      ],
      "execution_count": null,
      "outputs": []
    },
    {
      "cell_type": "markdown",
      "metadata": {
        "id": "oAf-VcJy8ycS"
      },
      "source": [
        "### Method 2 - handles all negative numbers"
      ]
    },
    {
      "cell_type": "code",
      "metadata": {
        "id": "H8DoVmAI8xti"
      },
      "source": [
        "def maxSubArraySum(a,size):\r\n",
        "    ##Your code here\r\n",
        "    maxSum = a[0]\r\n",
        "    subSum = a[0]\r\n",
        "    for i in range(1, size):\r\n",
        "        subSum = max(a[i], subSum+a[i])\r\n",
        "        maxSum = max(maxSum, subSum)\r\n",
        "    \r\n",
        "    return maxSum\r\n",
        "\r\n",
        "a = [-1,-5,-3,-90]\r\n",
        "maxSubArraySum(a, 4)"
      ],
      "execution_count": null,
      "outputs": []
    },
    {
      "cell_type": "markdown",
      "metadata": {
        "id": "C6jZd8cL__dW"
      },
      "source": [
        "## 10. Given an array arr[] denoting heights of N towers and a positive integer K, you have to modify the height of each tower either by increasing or decreasing them by K only once. After modifying, height should be a non-negative integer. Find out what could be the possible minimum difference of the height of shortest and longest towers after you have modified each tower."
      ]
    },
    {
      "cell_type": "code",
      "metadata": {
        "id": "083jS8_47iFs"
      },
      "source": [
        ""
      ],
      "execution_count": null,
      "outputs": []
    },
    {
      "cell_type": "markdown",
      "metadata": {
        "id": "YsRpaOPtFjTC"
      },
      "source": [
        "# 11. Minimum number of bribes\r\n",
        "\r\n",
        "It is New Year's Day and people are in line for the Wonderland rollercoaster ride. Each person wears a sticker indicating their initial position in the queue from 1 to n\r\n",
        "\r\n",
        ". Any person can bribe the person directly in front of them to swap positions, but they still wear their original sticker. One person can bribe at most two others.\r\n",
        "\r\n",
        "Determine the minimum number of bribes that took place to get to a given queue order. Print the number of bribes, or, if anyone has bribed more than two people, print Too chaotic."
      ]
    },
    {
      "cell_type": "code",
      "metadata": {
        "id": "GlLFORyl9jY5"
      },
      "source": [
        "def minimumBribes(q):\r\n",
        "    bribe = 0\r\n",
        "    q = [P-1 for P in q]\r\n",
        "    print(q)\r\n",
        "    for i,P in enumerate(q):\r\n",
        "        print(i,P)\r\n",
        "        if P-i > 2:\r\n",
        "            print(\"inside if\")\r\n",
        "            print(\"Too chaotic\")\r\n",
        "            return\r\n",
        "        else:\r\n",
        "            print(\"Inside else\")\r\n",
        "            for j in range(max(P-1,0), i):\r\n",
        "                if q[j] > P:\r\n",
        "                    print(bribe)\r\n",
        "                    bribe += 1\r\n",
        "            \r\n",
        "    print(bribe)\r\n",
        "    return\r\n",
        "minimumBribes([2, 1, 5, 3, 4])"
      ],
      "execution_count": null,
      "outputs": []
    },
    {
      "cell_type": "markdown",
      "metadata": {
        "id": "78PWVr8WFTyn"
      },
      "source": [
        "# 12. Minimum number of Swaps\r\n",
        "You are given an unordered array consisting of consecutive integers\r\n",
        "\r\n",
        "[1, 2, 3, ..., n] without any duplicates. You are allowed to swap any two elements. You need to find the minimum number of swaps required to sort the array in ascending order.\r\n"
      ]
    },
    {
      "cell_type": "code",
      "metadata": {
        "id": "HKPrnHP_9qR2"
      },
      "source": [
        "def minimumSwaps(arr):\r\n",
        "    arr = [n-1 for n in arr]\r\n",
        "    count = 0\r\n",
        "    i = 0\r\n",
        "    while(i<len(arr)):\r\n",
        "        num = arr[i]\r\n",
        "        if(arr[i] != i):\r\n",
        "            count += 1\r\n",
        "            arr[i], arr[num] = arr[num], arr[i]\r\n",
        "        else:\r\n",
        "            i += 1\r\n",
        "            \r\n",
        "    return count"
      ],
      "execution_count": null,
      "outputs": []
    },
    {
      "cell_type": "code",
      "metadata": {
        "id": "7QBB_t6mFg5d"
      },
      "source": [
        "if ((False and True ) or (True)):\r\n",
        "    print(\"U\")"
      ],
      "execution_count": null,
      "outputs": []
    },
    {
      "cell_type": "markdown",
      "metadata": {
        "id": "gATUm2kMm5M1"
      },
      "source": [
        "# 13. Array Manipulation\r\n",
        "Starting with a 1-indexed array of zeros and a list of operations, for each operation add a value to each the array element between two given indices, inclusive. Once all operations have been performed, return the maximum value in the array. \r\n",
        "\r\n"
      ]
    },
    {
      "cell_type": "markdown",
      "metadata": {
        "id": "28vv0XlAnfTF"
      },
      "source": [
        "![Screenshot 2021-02-05 200415.png](data:image/png;base64,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) "
      ]
    },
    {
      "cell_type": "code",
      "metadata": {
        "id": "MS2P1gMkV1vu"
      },
      "source": [
        "from collections import Counter\r\n",
        "def arrayManipulation(n, queries):\r\n",
        "    #arr = [0] * (n+5)\r\n",
        "    arr = Counter()\r\n",
        "    arrSum = 0\r\n",
        "    maxSum = 0\r\n",
        "    for a, b, k in queries:\r\n",
        "        print(a,b,k)\r\n",
        "        arr[a] += k\r\n",
        "        arr[b+1] -= k\r\n",
        "    print(sorted(arr)[:-1])\r\n",
        "    #arr = sorted(arr, reverse=True)\r\n",
        "    for i in sorted(arr):\r\n",
        "        arrSum += arr[i]\r\n",
        "        maxSum = max(maxSum, arrSum)\r\n",
        "    return maxSum\r\n",
        "        \r\n",
        "\r\n",
        "#queries = [[1, 5, 3], [4, 8, 7], [6, 9, 1]]\r\n",
        "queries = [[2, 6, 8],[3, 5, 7], [1, 8, 1], [5, 9, 15]]\r\n",
        "arrayManipulation(10, queries)"
      ],
      "execution_count": null,
      "outputs": []
    },
    {
      "cell_type": "markdown",
      "metadata": {
        "id": "5QO3ow8fynKE"
      },
      "source": [
        "# 14. Merge two arrays\r\n",
        "Given two sorted arrays arr1[] of size N and arr2[] of size M. Each array is sorted in non-decreasing order. Merge the two arrays into one sorted array in non-decreasing order without using any extra space."
      ]
    },
    {
      "cell_type": "code",
      "metadata": {
        "id": "eoNvqzZXg1l1"
      },
      "source": [
        "class Solution:\r\n",
        "    def merge(self, arr1, arr2, n, m): \r\n",
        "        # code here\r\n",
        "        arr1.extend(arr2)\r\n",
        "        arr1.sort()\r\n",
        "        for k in range(m):\r\n",
        "            arr2[k] = arr1[n+k]\r\n",
        "            \r\n",
        "        del arr1[n:]"
      ],
      "execution_count": 34,
      "outputs": []
    },
    {
      "cell_type": "markdown",
      "metadata": {
        "id": "qd1qGtJTIBrj"
      },
      "source": [
        "# 15. Find Duplicate number\r\n",
        "Given an array of integers nums containing n + 1 integers where each integer is in the range [1, n] inclusive.\r\n",
        "\r\n",
        "There is only one repeated number in nums, return this repeated number."
      ]
    },
    {
      "cell_type": "code",
      "metadata": {
        "colab": {
          "base_uri": "https://localhost:8080/"
        },
        "id": "aZDs-f69yttC",
        "outputId": "113ec7b9-a2d3-4f0b-985e-5c829b2db2c0"
      },
      "source": [
        "class Solution:\r\n",
        "    def findDuplicate(self, nums: List[int]) -> int:\r\n",
        "        n = len(nums)\r\n",
        "        counter = [0] * n\r\n",
        "        for num in nums:\r\n",
        "            counter[num-1] += 1\r\n",
        "        \r\n",
        "        for j in range(len(counter)):\r\n",
        "            if counter[j]> 1:\r\n",
        "                return j+1"
      ],
      "execution_count": 36,
      "outputs": [
        {
          "output_type": "execute_result",
          "data": {
            "text/plain": [
              "6"
            ]
          },
          "metadata": {
            "tags": []
          },
          "execution_count": 36
        }
      ]
    },
    {
      "cell_type": "markdown",
      "metadata": {
        "id": "EGSLfkileAZi"
      },
      "source": [
        "# 16. Merge intervals"
      ]
    },
    {
      "cell_type": "code",
      "metadata": {
        "id": "UkuV-aUnCI3Z"
      },
      "source": [
        "class Solution:\r\n",
        "    def merge(self, intervals: List[List[int]]) -> List[List[int]]:\r\n",
        "        intervals.sort()\r\n",
        "        new_intervals = []\r\n",
        "        i =0\r\n",
        "        \r\n",
        "        count = len(intervals)\r\n",
        "        while True:\r\n",
        "            if len(intervals) == 1:\r\n",
        "                return intervals\r\n",
        "            if intervals[i][1] >= intervals[i+1][0]:\r\n",
        "                if intervals[i][1] >= intervals[i+1][1]:\r\n",
        "                    intervals[i] = [intervals[i][0], intervals[i][1]]\r\n",
        "                    del intervals[i+1]\r\n",
        "                else:\r\n",
        "                    intervals[i] = [intervals[i][0], intervals[i+1][1]]\r\n",
        "                    del intervals[i+1]\r\n",
        "                \r\n",
        "            i+=1\r\n",
        "            if i >= len(intervals)-1:\r\n",
        "                count -= 1\r\n",
        "                i = 0\r\n",
        "                if count == 0:\r\n",
        "                    break\r\n",
        "        \r\n",
        "        return intervals"
      ],
      "execution_count": null,
      "outputs": []
    },
    {
      "cell_type": "markdown",
      "metadata": {
        "id": "9Qhe4aSrSTj-"
      },
      "source": [
        "# 17. Buy and sell stock\r\n",
        "You are given an array prices where prices[i] is the price of a given stock on the ith day.\r\n",
        "\r\n",
        "You want to maximize your profit by choosing a single day to buy one stock and choosing a different day in the future to sell that stock.\r\n",
        "\r\n",
        "Return the maximum profit you can achieve from this transaction. If you cannot achieve any profit, return 0."
      ]
    },
    {
      "cell_type": "code",
      "metadata": {
        "id": "elZl-Gt8ST-z"
      },
      "source": [
        "class Solution:\r\n",
        "    def maxProfit(self, prices: List[int]) -> int:\r\n",
        "        min_price = float('inf')\r\n",
        "        max_profit = 0\r\n",
        "        \r\n",
        "        for price in prices:\r\n",
        "            min_price = min(min_price, price)\r\n",
        "            profit = price - min_price\r\n",
        "            max_profit = max(max_profit, profit)\r\n",
        "        return max_profit\r\n",
        "            \r\n",
        "        "
      ],
      "execution_count": null,
      "outputs": []
    }
  ]
}
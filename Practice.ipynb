{
 "cells": [
  {
   "cell_type": "markdown",
   "id": "897669dc",
   "metadata": {},
   "source": [
    "# Binary Tree"
   ]
  },
  {
   "cell_type": "code",
   "execution_count": 103,
   "id": "6f35c66f",
   "metadata": {},
   "outputs": [],
   "source": [
    "class Node:\n",
    "    def __init__(self, key):\n",
    "        self.val = key\n",
    "        self.left = None\n",
    "        self.right = None\n",
    "\n",
    "class BinaryTree:\n",
    "    def __init__(self, root):\n",
    "        self.root = Node(root)\n",
    "        \n",
    "    def insertion_binary_tree(self, key):\n",
    "        root = self.root\n",
    "        q = [root]\n",
    "        while q:\n",
    "            \n",
    "            temp = q.pop(0)\n",
    "\n",
    "            if temp.left == None:\n",
    "                temp.left = Node(key)\n",
    "                break\n",
    "            else:\n",
    "                q.append(temp.left)\n",
    "\n",
    "            if temp.right == None:\n",
    "                temp.right = Node(key)\n",
    "                break\n",
    "            else:\n",
    "                q.append(temp.right)\n",
    "\n",
    "        print(f\"{key} insertion successfull !!\")\n",
    "\n",
    "    def preorder(self):\n",
    "        stack = [self.root]\n",
    "        nodes = []\n",
    "        while stack:\n",
    "            temp = stack.pop()\n",
    "            if temp:\n",
    "                nodes.append(temp.val)\n",
    "                stack.append(temp.right)\n",
    "                stack.append(temp.left)\n",
    "        print(f\"Preorder traversal is {nodes}\")\n",
    "        \n",
    "    def preorder_recur(self):\n",
    "        root = self.root\n",
    "        def pre_order(root):\n",
    "            if root:\n",
    "                print(root.val)\n",
    "                pre_order(root.left)\n",
    "                pre_order(root.right)\n",
    "        pre_order(root)\n",
    "        \n",
    "        \n",
    "    def inorder(self):\n",
    "        root = self.root\n",
    "        stack = []\n",
    "        nodes = []\n",
    "        while stack or root:\n",
    "            if root:\n",
    "                stack.append(root)\n",
    "                root = root.left\n",
    "            else:\n",
    "                node = stack.pop()\n",
    "                nodes.append(node.val)\n",
    "                root = node.right\n",
    "        print(f\"Inorder traversal is {nodes}\")\n",
    "    \n",
    "    def postorder(self):\n",
    "        root = self.root\n",
    "        nodes = []\n",
    "        stack = [(root, False)]\n",
    "        \n",
    "        while stack:\n",
    "            node, visited = stack.pop()\n",
    "            if node:\n",
    "                if visited:\n",
    "                    nodes.append(node.val)\n",
    "                else:\n",
    "                    stack.append((node, True))\n",
    "                    stack.append((node.right, False))\n",
    "                    stack.append((node.left, False))\n",
    "                \n",
    "        print(f\"Postorder traversal is {nodes}\")\n",
    "        \n",
    "    #  Count Leaves in Binary Tree\n",
    "    def countLeaves(self):\n",
    "        root = self.root\n",
    "        def count_leaves(root):\n",
    "        # Code here\n",
    "            if root is None:\n",
    "                return 0\n",
    "            if root.left == None and root.right == None:\n",
    "                return 1\n",
    "            else:\n",
    "                return (count_leaves(root.left) + count_leaves(root.right))\n",
    "\n",
    "        print(count_leaves(root))\n",
    "        \n",
    "    # check if the tree is symmetric\n",
    "    def isSymmetric(self):\n",
    "        def is_symmetric(left, right):\n",
    "            if left == None and right == None:\n",
    "                return True\n",
    "            elif left == None or right == None:\n",
    "                return False\n",
    "            elif left.val == right.val:\n",
    "                return is_symmetric(left.left, right.right) and is_symmetric(left.right, right.left)\n",
    "            else:\n",
    "                return False\n",
    "        # Your Code Here\n",
    "        root = self.root\n",
    "        if root is None:\n",
    "            return False\n",
    "        else:\n",
    "            return is_symmetric(root.left, root.right)\n"
   ]
  },
  {
   "cell_type": "code",
   "execution_count": 104,
   "id": "7b6d00da",
   "metadata": {},
   "outputs": [],
   "source": [
    "root = BinaryTree(1)"
   ]
  },
  {
   "cell_type": "code",
   "execution_count": 105,
   "id": "358e2f71",
   "metadata": {},
   "outputs": [
    {
     "name": "stdout",
     "output_type": "stream",
     "text": [
      "2 insertion successfull !!\n"
     ]
    }
   ],
   "source": [
    "root.insertion_binary_tree(2)"
   ]
  },
  {
   "cell_type": "code",
   "execution_count": 106,
   "id": "13805814",
   "metadata": {},
   "outputs": [
    {
     "name": "stdout",
     "output_type": "stream",
     "text": [
      "3 insertion successfull !!\n"
     ]
    }
   ],
   "source": [
    "root.insertion_binary_tree(3)"
   ]
  },
  {
   "cell_type": "code",
   "execution_count": 107,
   "id": "412f8ed9",
   "metadata": {},
   "outputs": [
    {
     "name": "stdout",
     "output_type": "stream",
     "text": [
      "4 insertion successfull !!\n"
     ]
    }
   ],
   "source": [
    "root.insertion_binary_tree(4)"
   ]
  },
  {
   "cell_type": "code",
   "execution_count": 108,
   "id": "ffdf6c40",
   "metadata": {},
   "outputs": [
    {
     "name": "stdout",
     "output_type": "stream",
     "text": [
      "Preorder traversal is [1, 2, 4, 3]\n"
     ]
    }
   ],
   "source": [
    "root.preorder()"
   ]
  },
  {
   "cell_type": "code",
   "execution_count": 109,
   "id": "9e04c38b",
   "metadata": {},
   "outputs": [
    {
     "name": "stdout",
     "output_type": "stream",
     "text": [
      "1\n",
      "2\n",
      "4\n",
      "3\n"
     ]
    }
   ],
   "source": [
    "root.preorder_recur()"
   ]
  },
  {
   "cell_type": "code",
   "execution_count": 110,
   "id": "e6782448",
   "metadata": {},
   "outputs": [
    {
     "name": "stdout",
     "output_type": "stream",
     "text": [
      "Inorder traversal is [4, 2, 1, 3]\n"
     ]
    }
   ],
   "source": [
    "root.inorder()"
   ]
  },
  {
   "cell_type": "code",
   "execution_count": 111,
   "id": "bf12dc80",
   "metadata": {},
   "outputs": [
    {
     "name": "stdout",
     "output_type": "stream",
     "text": [
      "Postorder traversal is [4, 2, 3, 1]\n"
     ]
    }
   ],
   "source": [
    "root.postorder()"
   ]
  },
  {
   "cell_type": "code",
   "execution_count": 112,
   "id": "1505bff3",
   "metadata": {},
   "outputs": [
    {
     "name": "stdout",
     "output_type": "stream",
     "text": [
      "5 insertion successfull !!\n"
     ]
    }
   ],
   "source": [
    "root.insertion_binary_tree(5)"
   ]
  },
  {
   "cell_type": "code",
   "execution_count": 113,
   "id": "a8ade7f9",
   "metadata": {},
   "outputs": [
    {
     "name": "stdout",
     "output_type": "stream",
     "text": [
      "Postorder traversal is [4, 5, 2, 3, 1]\n"
     ]
    }
   ],
   "source": [
    "root.postorder()"
   ]
  },
  {
   "cell_type": "code",
   "execution_count": 102,
   "id": "e34be53c",
   "metadata": {},
   "outputs": [
    {
     "name": "stdout",
     "output_type": "stream",
     "text": [
      "3\n"
     ]
    }
   ],
   "source": [
    "root.countLeaves()"
   ]
  },
  {
   "cell_type": "code",
   "execution_count": 114,
   "id": "d61d2a67",
   "metadata": {},
   "outputs": [
    {
     "data": {
      "text/plain": [
       "False"
      ]
     },
     "execution_count": 114,
     "metadata": {},
     "output_type": "execute_result"
    }
   ],
   "source": [
    "root.isSymmetric()"
   ]
  },
  {
   "cell_type": "code",
   "execution_count": 115,
   "id": "8ced65d7",
   "metadata": {},
   "outputs": [
    {
     "name": "stdout",
     "output_type": "stream",
     "text": [
      "6 insertion successfull !!\n"
     ]
    }
   ],
   "source": [
    "root.insertion_binary_tree(6)"
   ]
  },
  {
   "cell_type": "code",
   "execution_count": 116,
   "id": "17f3a538",
   "metadata": {},
   "outputs": [
    {
     "name": "stdout",
     "output_type": "stream",
     "text": [
      "Inorder traversal is [4, 2, 5, 1, 6, 3]\n"
     ]
    }
   ],
   "source": [
    "root.inorder()"
   ]
  },
  {
   "cell_type": "code",
   "execution_count": 117,
   "id": "54fe81ef",
   "metadata": {},
   "outputs": [
    {
     "data": {
      "text/plain": [
       "False"
      ]
     },
     "execution_count": 117,
     "metadata": {},
     "output_type": "execute_result"
    }
   ],
   "source": [
    "root.isSymmetric()"
   ]
  },
  {
   "cell_type": "markdown",
   "id": "fe584dc6",
   "metadata": {},
   "source": [
    "# LEETCODE"
   ]
  },
  {
   "cell_type": "markdown",
   "id": "90502ba5",
   "metadata": {},
   "source": [
    "## Populating Next Right Pointers in Each Node"
   ]
  },
  {
   "cell_type": "markdown",
   "id": "9bec71b4",
   "metadata": {},
   "source": [
    "### Solution 1 ---------- 68ms"
   ]
  },
  {
   "cell_type": "code",
   "execution_count": null,
   "id": "86132c30",
   "metadata": {},
   "outputs": [],
   "source": [
    "class Solution:\n",
    "    def connect(self, root: 'Node') -> 'Node':\n",
    "        level = [root]\n",
    "        # ans = []\n",
    "        while level and root:\n",
    "            i = 0\n",
    "            for i in range(len(level)-1):\n",
    "                node1 =level[i]\n",
    "                node2 = level[i+1]\n",
    "                node1.next = node2\n",
    "            temp_node = level[-1]\n",
    "            temp_node.next = None\n",
    "            \n",
    "            level = [leaf for node in level for leaf in (node.left, node.right) if leaf] \n",
    "            \n",
    "        return root\n",
    "                "
   ]
  },
  {
   "cell_type": "markdown",
   "id": "24689855",
   "metadata": {},
   "source": [
    "### Solution 2 ---------- 56ms"
   ]
  },
  {
   "cell_type": "code",
   "execution_count": null,
   "id": "8ef6e79f",
   "metadata": {},
   "outputs": [],
   "source": [
    "class Solution:\n",
    "    def connect(self, root: 'Node') -> 'Node':\n",
    "        first = root\n",
    "        while first:\n",
    "            curr = first\n",
    "            while curr:\n",
    "                if curr.left:\n",
    "                    curr.left.next = curr.right\n",
    "                if curr.next and curr.right:\n",
    "                    curr.right.next = curr.next.left\n",
    "                curr = curr.next\n",
    "            first = first.left\n",
    "        return root\n",
    "                "
   ]
  }
 ],
 "metadata": {
  "kernelspec": {
   "display_name": "Python 3",
   "language": "python",
   "name": "python3"
  },
  "language_info": {
   "codemirror_mode": {
    "name": "ipython",
    "version": 3
   },
   "file_extension": ".py",
   "mimetype": "text/x-python",
   "name": "python",
   "nbconvert_exporter": "python",
   "pygments_lexer": "ipython3",
   "version": "3.7.10"
  }
 },
 "nbformat": 4,
 "nbformat_minor": 5
}

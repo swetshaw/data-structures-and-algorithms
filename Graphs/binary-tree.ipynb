{
  "nbformat": 4,
  "nbformat_minor": 0,
  "metadata": {
    "colab": {
      "name": "Binary-Tree.ipynb",
      "provenance": []
    },
    "kernelspec": {
      "name": "python3",
      "display_name": "Python 3"
    }
  },
  "cells": [
    {
      "cell_type": "markdown",
      "metadata": {
        "id": "C1SVqRbyIBKi"
      },
      "source": [
        "# Python implementation of binary tree"
      ]
    },
    {
      "cell_type": "code",
      "metadata": {
        "id": "IsSMlIO4H3Va"
      },
      "source": [
        "class Node:\r\n",
        "    def __init__(self, key):\r\n",
        "        self.val = key\r\n",
        "        self.left = None\r\n",
        "        self.right = None\r\n",
        "\r\n",
        "def inorder(root):\r\n",
        "    if root is None:\r\n",
        "        return\r\n",
        "    inorder(root.left)\r\n",
        "    print(root.val)\r\n",
        "    inorder(root.right)\r\n",
        "\r\n",
        "def preorder(root):\r\n",
        "    if root:\r\n",
        "        print(root.val)\r\n",
        "        preorder(root.left)\r\n",
        "        preorder(root.right)\r\n",
        "\r\n",
        "def postorder(root):\r\n",
        "    if root:\r\n",
        "        postorder(root.left)\r\n",
        "        postorder(root.right)\r\n",
        "        print(root.val)\r\n",
        "\r\n",
        "# insert a key in the tree\r\n",
        "def insert(root, key):\r\n",
        "    if root == None:\r\n",
        "        root = Node(key)\r\n",
        "        return\r\n",
        "    \r\n",
        "    temp = root\r\n",
        "    q = []\r\n",
        "    q.append(temp)\r\n",
        "\r\n",
        "    while(len(q)):\r\n",
        "        temp = q[0]\r\n",
        "        q.pop(0)\r\n",
        "        if(temp.left != None):\r\n",
        "            q.append(temp.left)\r\n",
        "        else:\r\n",
        "            new_node = Node(key)\r\n",
        "            temp.left = new_node\r\n",
        "            break\r\n",
        "\r\n",
        "        if temp.right != None:\r\n",
        "            q.append(temp.right)\r\n",
        "        else:\r\n",
        "            new_node = Node(key)\r\n",
        "            temp.right = new_node\r\n",
        "            break\r\n",
        "\r\n",
        "\r\n",
        "\r\n",
        "\r\n",
        "\r\n",
        "\r\n",
        "        \r\n",
        "\r\n",
        "# create root element\r\n",
        "root = Node(1)\r\n",
        "root.left = Node(2)\r\n",
        "root.right = Node(3)\r\n",
        "print(\"--Inorder--\")\r\n",
        "inorder(root)\r\n",
        "print(\"--Preorder--\")\r\n",
        "preorder(root)\r\n",
        "print(\"--Postorder--\")\r\n",
        "postorder(root)"
      ],
      "execution_count": null,
      "outputs": []
    },
    {
      "cell_type": "code",
      "metadata": {
        "id": "y7W15OcPvhD2"
      },
      "source": [
        "insert(root, 10)\r\n",
        "preorder(root)"
      ],
      "execution_count": null,
      "outputs": []
    },
    {
      "cell_type": "code",
      "metadata": {
        "id": "pPWr0BziJ1yk"
      },
      "source": [
        ""
      ],
      "execution_count": null,
      "outputs": []
    }
  ]
}
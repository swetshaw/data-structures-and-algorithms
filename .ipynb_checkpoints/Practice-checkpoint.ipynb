{
 "cells": [
  {
   "cell_type": "markdown",
   "id": "017ae2b0",
   "metadata": {},
   "source": [
    "# Binary Tree"
   ]
  },
  {
   "cell_type": "code",
   "execution_count": 79,
   "id": "54d27de6",
   "metadata": {},
   "outputs": [],
   "source": [
    "class Node:\n",
    "    def __init__(self, key):\n",
    "        self.val = key\n",
    "        self.left = None\n",
    "        self.right = None\n",
    "\n",
    "class BinaryTree:\n",
    "    def __init__(self, root):\n",
    "        self.root = Node(root)\n",
    "        \n",
    "    def insertion_binary_tree(self, key):\n",
    "        root = self.root\n",
    "        q = [root]\n",
    "        while q:\n",
    "            \n",
    "            temp = q.pop(0)\n",
    "\n",
    "            if temp.left == None:\n",
    "                temp.left = Node(key)\n",
    "                break\n",
    "            else:\n",
    "                q.append(temp.left)\n",
    "\n",
    "            if temp.right == None:\n",
    "                temp.right = Node(key)\n",
    "                break\n",
    "            else:\n",
    "                q.append(temp.right)\n",
    "\n",
    "        print(f\"{key} insertion successfull !!\")\n",
    "\n",
    "    def preorder(self):\n",
    "        stack = [self.root]\n",
    "        nodes = []\n",
    "        while stack:\n",
    "            temp = stack.pop()\n",
    "            if temp:\n",
    "                nodes.append(temp.val)\n",
    "                stack.append(temp.right)\n",
    "                stack.append(temp.left)\n",
    "        print(f\"Preorder traversal is {nodes}\")\n",
    "        \n",
    "    def preorder_recur(self):\n",
    "        root = self.root\n",
    "        def pre_order(root):\n",
    "            if root:\n",
    "                print(root.val)\n",
    "                pre_order(root.left)\n",
    "                pre_order(root.right)\n",
    "        pre_order(root)\n",
    "        \n",
    "        \n",
    "    def inorder(self):\n",
    "        root = self.root\n",
    "        stack = []\n",
    "        nodes = []\n",
    "        while stack or root:\n",
    "            if root:\n",
    "                stack.append(root)\n",
    "                root = root.left\n",
    "            else:\n",
    "                node = stack.pop()\n",
    "                nodes.append(node.val)\n",
    "                root = node.right\n",
    "        print(f\"Inorder traversal is {nodes}\")\n",
    "    \n",
    "    def postorder(self):\n",
    "        root = self.root\n",
    "        nodes = []\n",
    "        stack = [(root, False)]\n",
    "        \n",
    "        while stack:\n",
    "            node, visited = stack.pop()\n",
    "            if node:\n",
    "                if visited:\n",
    "                    nodes.append(node.val)\n",
    "                else:\n",
    "                    stack.append((node, True))\n",
    "                    stack.append((node.right, False))\n",
    "                    stack.append((node.left, False))\n",
    "                \n",
    "        print(f\"Postorder traversal is {nodes}\")"
   ]
  },
  {
   "cell_type": "code",
   "execution_count": 80,
   "id": "324cc180",
   "metadata": {},
   "outputs": [],
   "source": [
    "root = BinaryTree(1)"
   ]
  },
  {
   "cell_type": "code",
   "execution_count": 81,
   "id": "ee248b64",
   "metadata": {},
   "outputs": [
    {
     "name": "stdout",
     "output_type": "stream",
     "text": [
      "2 insertion successfull !!\n"
     ]
    }
   ],
   "source": [
    "root.insertion_binary_tree(2)"
   ]
  },
  {
   "cell_type": "code",
   "execution_count": 82,
   "id": "a835ff64",
   "metadata": {},
   "outputs": [
    {
     "name": "stdout",
     "output_type": "stream",
     "text": [
      "3 insertion successfull !!\n"
     ]
    }
   ],
   "source": [
    "root.insertion_binary_tree(3)"
   ]
  },
  {
   "cell_type": "code",
   "execution_count": 83,
   "id": "c7bb4b0d",
   "metadata": {},
   "outputs": [
    {
     "name": "stdout",
     "output_type": "stream",
     "text": [
      "4 insertion successfull !!\n"
     ]
    }
   ],
   "source": [
    "root.insertion_binary_tree(4)"
   ]
  },
  {
   "cell_type": "code",
   "execution_count": 84,
   "id": "7d0093ab",
   "metadata": {},
   "outputs": [
    {
     "name": "stdout",
     "output_type": "stream",
     "text": [
      "Preorder traversal is [1, 2, 4, 3]\n"
     ]
    }
   ],
   "source": [
    "root.preorder()"
   ]
  },
  {
   "cell_type": "code",
   "execution_count": 85,
   "id": "c339b10e",
   "metadata": {},
   "outputs": [
    {
     "name": "stdout",
     "output_type": "stream",
     "text": [
      "1\n",
      "2\n",
      "4\n",
      "3\n"
     ]
    }
   ],
   "source": [
    "root.preorder_recur()"
   ]
  },
  {
   "cell_type": "code",
   "execution_count": 86,
   "id": "b7fe0889",
   "metadata": {},
   "outputs": [
    {
     "name": "stdout",
     "output_type": "stream",
     "text": [
      "Inorder traversal is [4, 2, 1, 3]\n"
     ]
    }
   ],
   "source": [
    "root.inorder()"
   ]
  },
  {
   "cell_type": "code",
   "execution_count": 87,
   "id": "68558f22",
   "metadata": {},
   "outputs": [
    {
     "name": "stdout",
     "output_type": "stream",
     "text": [
      "Postorder traversal is [4, 2, 3, 1]\n"
     ]
    }
   ],
   "source": [
    "root.postorder()"
   ]
  },
  {
   "cell_type": "code",
   "execution_count": 88,
   "id": "517bc6db",
   "metadata": {},
   "outputs": [
    {
     "name": "stdout",
     "output_type": "stream",
     "text": [
      "5 insertion successfull !!\n"
     ]
    }
   ],
   "source": [
    "root.insertion_binary_tree(5)"
   ]
  },
  {
   "cell_type": "code",
   "execution_count": 89,
   "id": "8c0c7a51",
   "metadata": {},
   "outputs": [
    {
     "name": "stdout",
     "output_type": "stream",
     "text": [
      "Postorder traversal is [4, 5, 2, 3, 1]\n"
     ]
    }
   ],
   "source": [
    "root.postorder()"
   ]
  },
  {
   "cell_type": "code",
   "execution_count": null,
   "id": "d55e578b",
   "metadata": {},
   "outputs": [],
   "source": []
  }
 ],
 "metadata": {
  "kernelspec": {
   "display_name": "Python 3",
   "language": "python",
   "name": "python3"
  },
  "language_info": {
   "codemirror_mode": {
    "name": "ipython",
    "version": 3
   },
   "file_extension": ".py",
   "mimetype": "text/x-python",
   "name": "python",
   "nbconvert_exporter": "python",
   "pygments_lexer": "ipython3",
   "version": "3.7.10"
  }
 },
 "nbformat": 4,
 "nbformat_minor": 5
}

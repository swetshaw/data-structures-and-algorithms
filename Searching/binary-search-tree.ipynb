{
  "nbformat": 4,
  "nbformat_minor": 0,
  "metadata": {
    "colab": {
      "name": "binary-search-tree.ipynb",
      "provenance": []
    },
    "kernelspec": {
      "name": "python3",
      "display_name": "Python 3"
    }
  },
  "cells": [
    {
      "cell_type": "code",
      "metadata": {
        "id": "Y6DW_bd0l41L"
      },
      "source": [
        "class Node:\r\n",
        "    def __init__(self, key):\r\n",
        "        self.left = None\r\n",
        "        self.val = key\r\n",
        "        self.right = None\r\n",
        "\r\n",
        "def search(root, key):\r\n",
        "    print(\"Searching\")\r\n",
        "    if root is None:\r\n",
        "        print(f\"{key} not found\")\r\n",
        "        return\r\n",
        "\r\n",
        "    if root.val == key:\r\n",
        "        print(f\"{key} found in the tree\")\r\n",
        "        return\r\n",
        "    \r\n",
        "    if key > root.val:\r\n",
        "        search(root.right, key)\r\n",
        "    if key < root.val:\r\n",
        "        search(root.left, key)\r\n",
        "\r\n",
        "def insert(root, key):\r\n",
        "\r\n",
        "    if root is None:\r\n",
        "        return Node(key)\r\n",
        "    else:\r\n",
        "        if root.val == key:\r\n",
        "            return root\r\n",
        "        if key > root.val:\r\n",
        "            root.right = insert(root.right, key)\r\n",
        "        \r\n",
        "        if key < root.val:\r\n",
        "            root.left = insert(root.left, key)\r\n",
        "        return root\r\n",
        "\r\n",
        "def inorder(root):\r\n",
        "\r\n",
        "    if root is None:\r\n",
        "        return\r\n",
        "    inorder(root.left)\r\n",
        "    print(root.val)\r\n",
        "    inorder(root.right)\r\n",
        "\r\n",
        "\r\n"
      ],
      "execution_count": null,
      "outputs": []
    },
    {
      "cell_type": "code",
      "metadata": {
        "id": "nVJRxFb4oded"
      },
      "source": [
        "root = Node(5)\r\n",
        "insert(root, 4)\r\n",
        "insert(root, 8)\r\n",
        "insert(root, 3)\r\n",
        "insert(root, 2)\r\n",
        "insert(root, 1)\r\n",
        "insert(root, 9)\r\n",
        "insert(root, 10)"
      ],
      "execution_count": null,
      "outputs": []
    },
    {
      "cell_type": "code",
      "metadata": {
        "id": "EmoRHdefxSsy"
      },
      "source": [
        "inorder(root)"
      ],
      "execution_count": null,
      "outputs": []
    },
    {
      "cell_type": "code",
      "metadata": {
        "id": "yh_ZWUZpxbdf"
      },
      "source": [
        ""
      ],
      "execution_count": null,
      "outputs": []
    }
  ]
}
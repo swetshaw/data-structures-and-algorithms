{
 "cells": [
  {
   "cell_type": "markdown",
   "metadata": {
    "id": "C1SVqRbyIBKi"
   },
   "source": [
    "# Python implementation of binary tree"
   ]
  },
  {
   "cell_type": "code",
   "execution_count": 3,
   "metadata": {
    "id": "IsSMlIO4H3Va"
   },
   "outputs": [
    {
     "name": "stdout",
     "output_type": "stream",
     "text": [
      "--Inorder--\n",
      "2\n",
      "1\n",
      "3\n",
      "--Preorder--\n",
      "1\n",
      "2\n",
      "3\n",
      "--Postorder--\n",
      "2\n",
      "3\n",
      "1\n"
     ]
    }
   ],
   "source": [
    "class Node:\n",
    "    def __init__(self, key):\n",
    "        self.val = key\n",
    "        self.left = None\n",
    "        self.right = None\n",
    "\n",
    "def inorder(root):\n",
    "    if root is None:\n",
    "        return\n",
    "    inorder(root.left)\n",
    "    print(root.val)\n",
    "    inorder(root.right)\n",
    "\n",
    "def preorder(root):\n",
    "    if root:\n",
    "        print(root.val)\n",
    "        preorder(root.left)\n",
    "        preorder(root.right)\n",
    "\n",
    "def postorder(root):\n",
    "    if root:\n",
    "        postorder(root.left)\n",
    "        postorder(root.right)\n",
    "        print(root.val)\n",
    "\n",
    "# insert a key in the tree\n",
    "def insert(root, key):\n",
    "    if root == None:\n",
    "        root = Node(key)\n",
    "        return\n",
    "    \n",
    "    temp = root\n",
    "    q = []\n",
    "    q.append(temp)\n",
    "\n",
    "    while(len(q)):\n",
    "        temp = q[0]\n",
    "        q.pop(0)\n",
    "        if(temp.left != None):\n",
    "            q.append(temp.left)\n",
    "        else:\n",
    "            new_node = Node(key)\n",
    "            temp.left = new_node\n",
    "            break\n",
    "\n",
    "        if temp.right != None:\n",
    "            q.append(temp.right)\n",
    "        else:\n",
    "            new_node = Node(key)\n",
    "            temp.right = new_node\n",
    "            break\n",
    "\n",
    "\n",
    "\n",
    "\n",
    "\n",
    "\n",
    "        \n",
    "\n",
    "# create root element\n",
    "root = Node(1)\n",
    "root.left = Node(2)\n",
    "root.right = Node(3)\n",
    "print(\"--Inorder--\")\n",
    "inorder(root)\n",
    "print(\"--Preorder--\")\n",
    "preorder(root)\n",
    "print(\"--Postorder--\")\n",
    "postorder(root)"
   ]
  },
  {
   "cell_type": "code",
   "execution_count": 5,
   "metadata": {
    "id": "y7W15OcPvhD2"
   },
   "outputs": [],
   "source": [
    "insert(root, 10)\n",
    "insert(root, 20)"
   ]
  },
  {
   "cell_type": "markdown",
   "metadata": {
    "id": "pPWr0BziJ1yk"
   },
   "source": [
    "# Iterative implementation of:\n",
    "- Preorder\n",
    "- Inorder\n",
    "- Postorder"
   ]
  },
  {
   "cell_type": "markdown",
   "metadata": {},
   "source": [
    "## Preorder traversal (iterative)"
   ]
  },
  {
   "cell_type": "code",
   "execution_count": 7,
   "metadata": {},
   "outputs": [],
   "source": [
    "def preorder_iterative(root):\n",
    "    nodes = [] # stores the result\n",
    "    stack = [root] # stores the nodes visited\n",
    "    while stack:\n",
    "        node = stack.pop()\n",
    "        if node:\n",
    "            nodes.append(node.val)\n",
    "            stack.append(node.right)\n",
    "            stack.append(node.left)\n",
    "    return nodes"
   ]
  },
  {
   "cell_type": "code",
   "execution_count": 8,
   "metadata": {},
   "outputs": [
    {
     "data": {
      "text/plain": [
       "[1, 2, 10, 10, 3, 20]"
      ]
     },
     "execution_count": 8,
     "metadata": {},
     "output_type": "execute_result"
    }
   ],
   "source": [
    "preorder_iterative(root)"
   ]
  },
  {
   "cell_type": "markdown",
   "metadata": {},
   "source": [
    "## Inorder traversal (iterative)"
   ]
  },
  {
   "cell_type": "code",
   "execution_count": 9,
   "metadata": {},
   "outputs": [],
   "source": [
    "def inorder_iterative(root):\n",
    "    nodes = []\n",
    "    stack = []\n",
    "    \n",
    "    while stack or root:\n",
    "        if root:\n",
    "            stack.append(root)\n",
    "            root = root.left\n",
    "        else:\n",
    "            node = stack.pop()\n",
    "            nodes.append(node.val)\n",
    "            root = node.right\n",
    "    return nodes"
   ]
  },
  {
   "cell_type": "code",
   "execution_count": 10,
   "metadata": {},
   "outputs": [
    {
     "data": {
      "text/plain": [
       "[10, 2, 10, 1, 20, 3]"
      ]
     },
     "execution_count": 10,
     "metadata": {},
     "output_type": "execute_result"
    }
   ],
   "source": [
    "inorder_iterative(root)"
   ]
  },
  {
   "cell_type": "markdown",
   "metadata": {},
   "source": [
    "## Postorder traversal (iterative)"
   ]
  },
  {
   "cell_type": "code",
   "execution_count": null,
   "metadata": {},
   "outputs": [],
   "source": [
    "def postorder_iterative(root):\n",
    "    nodes = []\n",
    "    stack = [(root, False)]\n",
    "    \n",
    "    while stack:\n",
    "        node, visited = stack.pop()\n",
    "        \n",
    "        if node:\n",
    "            if visited:\n",
    "                nodes.append(node.val)\n",
    "            else:\n",
    "                stack.append((node,True))\n",
    "                stack.append((node.right, False))\n",
    "                stack.append((node.left, False))\n",
    "            "
   ]
  }
 ],
 "metadata": {
  "colab": {
   "name": "Binary-Tree.ipynb",
   "provenance": []
  },
  "kernelspec": {
   "display_name": "Python 3",
   "language": "python",
   "name": "python3"
  },
  "language_info": {
   "codemirror_mode": {
    "name": "ipython",
    "version": 3
   },
   "file_extension": ".py",
   "mimetype": "text/x-python",
   "name": "python",
   "nbconvert_exporter": "python",
   "pygments_lexer": "ipython3",
   "version": "3.7.10"
  }
 },
 "nbformat": 4,
 "nbformat_minor": 1
}

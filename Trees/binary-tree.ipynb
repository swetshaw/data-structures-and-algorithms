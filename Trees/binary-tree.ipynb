{
 "cells": [
  {
   "cell_type": "markdown",
   "metadata": {
    "id": "C1SVqRbyIBKi"
   },
   "source": [
    "# Python implementation of binary tree"
   ]
  },
  {
   "cell_type": "code",
   "execution_count": 24,
   "metadata": {
    "id": "IsSMlIO4H3Va"
   },
   "outputs": [
    {
     "name": "stdout",
     "output_type": "stream",
     "text": [
      "--Inorder--\n",
      "2\n",
      "1\n",
      "3\n",
      "--Preorder--\n",
      "1\n",
      "2\n",
      "3\n",
      "--Postorder--\n",
      "2\n",
      "3\n",
      "1\n"
     ]
    }
   ],
   "source": [
    "class Node:\n",
    "    def __init__(self, key):\n",
    "        self.val = key\n",
    "        self.left = None\n",
    "        self.right = None\n",
    "\n",
    "def inorder(root):\n",
    "    if root is None:\n",
    "        return\n",
    "    inorder(root.left)\n",
    "    print(root.val)\n",
    "    inorder(root.right)\n",
    "\n",
    "def preorder(root):\n",
    "    if root:\n",
    "        print(root.val)\n",
    "        preorder(root.left)\n",
    "        preorder(root.right)\n",
    "\n",
    "def postorder(root):\n",
    "    if root:\n",
    "        postorder(root.left)\n",
    "        postorder(root.right)\n",
    "        print(root.val)\n",
    "\n",
    "# insert a key in the tree\n",
    "def insert(root, key):\n",
    "    if root == None:\n",
    "        root = Node(key)\n",
    "        return\n",
    "    \n",
    "    temp = root\n",
    "    q = []\n",
    "    q.append(temp)\n",
    "\n",
    "    while(len(q)):\n",
    "        temp = q[0]\n",
    "        q.pop(0)\n",
    "        if(temp.left != None):\n",
    "            q.append(temp.left)\n",
    "        else:\n",
    "            new_node = Node(key)\n",
    "            temp.left = new_node\n",
    "            break\n",
    "\n",
    "        if temp.right != None:\n",
    "            q.append(temp.right)\n",
    "        else:\n",
    "            new_node = Node(key)\n",
    "            temp.right = new_node\n",
    "            break\n",
    "\n",
    "\n",
    "\n",
    "\n",
    "\n",
    "\n",
    "        \n",
    "\n",
    "# create root element\n",
    "root = Node(1)\n",
    "root.left = Node(2)\n",
    "root.right = Node(3)\n",
    "print(\"--Inorder--\")\n",
    "inorder(root)\n",
    "print(\"--Preorder--\")\n",
    "preorder(root)\n",
    "print(\"--Postorder--\")\n",
    "postorder(root)"
   ]
  },
  {
   "cell_type": "code",
   "execution_count": 25,
   "metadata": {
    "id": "y7W15OcPvhD2"
   },
   "outputs": [],
   "source": [
    "insert(root, 10)\n",
    "insert(root, 20)"
   ]
  },
  {
   "cell_type": "markdown",
   "metadata": {
    "id": "pPWr0BziJ1yk"
   },
   "source": [
    "# Iterative implementation of:\n",
    "- Preorder\n",
    "- Inorder\n",
    "- Postorder"
   ]
  },
  {
   "cell_type": "markdown",
   "metadata": {},
   "source": [
    "## Preorder traversal (iterative)"
   ]
  },
  {
   "cell_type": "code",
   "execution_count": 26,
   "metadata": {},
   "outputs": [],
   "source": [
    "def preorder_iterative(root):\n",
    "    nodes = [] # stores the result\n",
    "    stack = [root] # stores the nodes visited\n",
    "    while stack:\n",
    "        node = stack.pop()\n",
    "        if node:\n",
    "            nodes.append(node.val)\n",
    "            stack.append(node.right)\n",
    "            stack.append(node.left)\n",
    "    return nodes"
   ]
  },
  {
   "cell_type": "code",
   "execution_count": 27,
   "metadata": {},
   "outputs": [
    {
     "data": {
      "text/plain": [
       "[1, 2, 10, 20, 3]"
      ]
     },
     "execution_count": 27,
     "metadata": {},
     "output_type": "execute_result"
    }
   ],
   "source": [
    "preorder_iterative(root)"
   ]
  },
  {
   "cell_type": "markdown",
   "metadata": {},
   "source": [
    "## Inorder traversal (iterative)"
   ]
  },
  {
   "cell_type": "code",
   "execution_count": 28,
   "metadata": {},
   "outputs": [],
   "source": [
    "def inorder_iterative(root):\n",
    "    nodes = []\n",
    "    stack = []\n",
    "    \n",
    "    while stack or root:\n",
    "        if root:\n",
    "            stack.append(root)\n",
    "            root = root.left\n",
    "        else:\n",
    "            node = stack.pop()\n",
    "            nodes.append(node.val)\n",
    "            root = node.right\n",
    "    return nodes"
   ]
  },
  {
   "cell_type": "code",
   "execution_count": 29,
   "metadata": {},
   "outputs": [
    {
     "data": {
      "text/plain": [
       "[10, 2, 20, 1, 3]"
      ]
     },
     "execution_count": 29,
     "metadata": {},
     "output_type": "execute_result"
    }
   ],
   "source": [
    "inorder_iterative(root)"
   ]
  },
  {
   "cell_type": "markdown",
   "metadata": {},
   "source": [
    "## Postorder traversal (iterative)"
   ]
  },
  {
   "cell_type": "code",
   "execution_count": 30,
   "metadata": {},
   "outputs": [],
   "source": [
    "def postorder_iterative(root):\n",
    "    nodes = []\n",
    "    stack = [(root, False)]\n",
    "    \n",
    "    while stack:\n",
    "        node, visited = stack.pop()\n",
    "        \n",
    "        if node:\n",
    "            if visited:\n",
    "                nodes.append(node.val)\n",
    "            else:\n",
    "                stack.append((node,True))\n",
    "                stack.append((node.right, False))\n",
    "                stack.append((node.left, False))\n",
    "            "
   ]
  },
  {
   "cell_type": "markdown",
   "metadata": {},
   "source": [
    "# Insertion in binary tree"
   ]
  },
  {
   "cell_type": "code",
   "execution_count": 31,
   "metadata": {},
   "outputs": [],
   "source": [
    "def insertInbinaryTree(root, key):\n",
    "    temp = root\n",
    "    q = [root]\n",
    "    \n",
    "    while q:\n",
    "        temp = q.pop(0)\n",
    "        if temp.left:\n",
    "            q.append(temp.left)\n",
    "        else:\n",
    "            temp.left = Node(key)\n",
    "            break\n",
    "        \n",
    "        if temp.right:\n",
    "            q.append(temp.right)\n",
    "        else:\n",
    "            temp.right = Node(key)\n",
    "            break"
   ]
  },
  {
   "cell_type": "code",
   "execution_count": 32,
   "metadata": {},
   "outputs": [],
   "source": [
    "insertInbinaryTree(root, 101)"
   ]
  },
  {
   "cell_type": "code",
   "execution_count": 33,
   "metadata": {},
   "outputs": [
    {
     "data": {
      "text/plain": [
       "[10, 2, 20, 1, 101, 3]"
      ]
     },
     "execution_count": 33,
     "metadata": {},
     "output_type": "execute_result"
    }
   ],
   "source": [
    "inorder_iterative(root)"
   ]
  },
  {
   "cell_type": "markdown",
   "metadata": {},
   "source": [
    "# Level order traversal I"
   ]
  },
  {
   "cell_type": "code",
   "execution_count": 38,
   "metadata": {},
   "outputs": [],
   "source": [
    "def levelOrderTraversal(root):\n",
    "    temp = root\n",
    "    q = [temp]\n",
    "    node_list = []\n",
    "    while q:\n",
    "        temp = q.pop(0)\n",
    "        print(temp.val)\n",
    "        node_list.append(temp.val)\n",
    "        \n",
    "        if temp.left:\n",
    "            q.append(temp.left)\n",
    "        if temp.right:\n",
    "            q.append(temp.right)\n",
    "        "
   ]
  },
  {
   "cell_type": "code",
   "execution_count": 39,
   "metadata": {},
   "outputs": [
    {
     "name": "stdout",
     "output_type": "stream",
     "text": [
      "1\n",
      "2\n",
      "3\n",
      "10\n",
      "20\n",
      "101\n"
     ]
    }
   ],
   "source": [
    "levelOrderTraversal(root)"
   ]
  },
  {
   "cell_type": "markdown",
   "metadata": {},
   "source": [
    "# Level order traversal II"
   ]
  },
  {
   "cell_type": "code",
   "execution_count": 40,
   "metadata": {},
   "outputs": [],
   "source": [
    "def level_order_traverse(root):\n",
    "    ans = []\n",
    "    level = [root]\n",
    "    \n",
    "    while level and root:\n",
    "        ans.append([node.val for node in level])\n",
    "        level = [kid for node in level for kid in (node.left, node.right) if kid]\n",
    "        \n",
    "    return ans"
   ]
  },
  {
   "cell_type": "code",
   "execution_count": 41,
   "metadata": {},
   "outputs": [
    {
     "data": {
      "text/plain": [
       "[[1], [2, 3], [10, 20, 101]]"
      ]
     },
     "execution_count": 41,
     "metadata": {},
     "output_type": "execute_result"
    }
   ],
   "source": [
    "level_order_traverse(root)"
   ]
  },
  {
   "cell_type": "markdown",
   "metadata": {},
   "source": [
    "# Symmetric"
   ]
  },
  {
   "cell_type": "code",
   "execution_count": 79,
   "metadata": {},
   "outputs": [],
   "source": [
    "def isSymmetric(root):\n",
    "        def is_symmetric(left, right):\n",
    "\n",
    "            if left is None and right is None:\n",
    "                return True\n",
    "            if left is None or right is None:\n",
    "                print(left.val, right.val)\n",
    "                return False\n",
    "            if left.val == right.val:\n",
    "                print(left.val, right.val)\n",
    "                return (is_symmetric(left.left, right.right) and is_symmetric(left.right, right.left))\n",
    "            else:\n",
    "\n",
    "                return False\n",
    "            \n",
    "        if root is None:\n",
    "            return True\n",
    "        else:\n",
    "            return is_symmetric(root.left, root.right)\n",
    "        \n",
    "        "
   ]
  },
  {
   "cell_type": "code",
   "execution_count": 80,
   "metadata": {},
   "outputs": [],
   "source": [
    "root = Node(1)"
   ]
  },
  {
   "cell_type": "code",
   "execution_count": 81,
   "metadata": {},
   "outputs": [],
   "source": [
    "insert(root, 2)\n",
    "insert(root, 2)\n",
    "insert(root, 3)\n",
    "insert(root, 4)\n",
    "insert(root, 3)\n",
    "insert(root, 4)"
   ]
  },
  {
   "cell_type": "code",
   "execution_count": 82,
   "metadata": {},
   "outputs": [
    {
     "data": {
      "text/plain": [
       "[[1], [2, 2], [3, 4, 3, 4]]"
      ]
     },
     "execution_count": 82,
     "metadata": {},
     "output_type": "execute_result"
    }
   ],
   "source": [
    "level_order_traverse(root)"
   ]
  },
  {
   "cell_type": "code",
   "execution_count": 83,
   "metadata": {},
   "outputs": [
    {
     "name": "stdout",
     "output_type": "stream",
     "text": [
      "2 2\n"
     ]
    },
    {
     "data": {
      "text/plain": [
       "False"
      ]
     },
     "execution_count": 83,
     "metadata": {},
     "output_type": "execute_result"
    }
   ],
   "source": [
    "isSymmetric(root)"
   ]
  },
  {
   "cell_type": "code",
   "execution_count": 74,
   "metadata": {},
   "outputs": [],
   "source": [
    "root2 = Node(1)"
   ]
  },
  {
   "cell_type": "code",
   "execution_count": 75,
   "metadata": {},
   "outputs": [],
   "source": [
    "root2.left = Node(2)\n",
    "root2.right = Node(2)"
   ]
  },
  {
   "cell_type": "code",
   "execution_count": 76,
   "metadata": {},
   "outputs": [],
   "source": [
    "root2.left.right = Node(3)\n",
    "root2.right.right = Node(3)"
   ]
  },
  {
   "cell_type": "code",
   "execution_count": 77,
   "metadata": {},
   "outputs": [
    {
     "data": {
      "text/plain": [
       "[[1], [2, 2], [3, 3]]"
      ]
     },
     "execution_count": 77,
     "metadata": {},
     "output_type": "execute_result"
    }
   ],
   "source": [
    "level_order_traverse(root2)"
   ]
  },
  {
   "cell_type": "code",
   "execution_count": 78,
   "metadata": {},
   "outputs": [
    {
     "name": "stdout",
     "output_type": "stream",
     "text": [
      "2 2\n",
      "3 3\n"
     ]
    },
    {
     "data": {
      "text/plain": [
       "True"
      ]
     },
     "execution_count": 78,
     "metadata": {},
     "output_type": "execute_result"
    }
   ],
   "source": [
    "isSymmetric(root2)"
   ]
  },
  {
   "cell_type": "markdown",
   "metadata": {},
   "source": [
    "# Path Sum\n",
    "\n",
    "**Given the root of a binary tree and an integer targetSum, return true if the tree has a root-to-leaf path such that adding up all the values along the path equals targetSum.**"
   ]
  },
  {
   "cell_type": "markdown",
   "metadata": {},
   "source": [
    "**ALGORITHM :** \n",
    "\n",
    "we keep traversing through the node and reduce the targetSum by the node's value. It should return true when we reach the leaf node and the value of the leaf node is equal to targetSum."
   ]
  },
  {
   "cell_type": "code",
   "execution_count": 84,
   "metadata": {},
   "outputs": [],
   "source": [
    "def pathSum(root, targetSum):\n",
    "    if root is None:\n",
    "        return False\n",
    "    if root.left is None and root.right is None and root.val==targetSum:\n",
    "        return True\n",
    "    \n",
    "    targetSum -= root.val\n",
    "    \n",
    "    return pathSum(root.left, targetSum) or pathSum(root.right, targetSum)\n",
    "        "
   ]
  },
  {
   "cell_type": "code",
   "execution_count": null,
   "metadata": {},
   "outputs": [],
   "source": []
  }
 ],
 "metadata": {
  "colab": {
   "name": "Binary-Tree.ipynb",
   "provenance": []
  },
  "kernelspec": {
   "display_name": "Python 3",
   "language": "python",
   "name": "python3"
  },
  "language_info": {
   "codemirror_mode": {
    "name": "ipython",
    "version": 3
   },
   "file_extension": ".py",
   "mimetype": "text/x-python",
   "name": "python",
   "nbconvert_exporter": "python",
   "pygments_lexer": "ipython3",
   "version": "3.7.10"
  }
 },
 "nbformat": 4,
 "nbformat_minor": 1
}

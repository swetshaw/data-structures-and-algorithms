{
  "nbformat": 4,
  "nbformat_minor": 0,
  "metadata": {
    "colab": {
      "name": "sorting-algorithms.ipynb",
      "provenance": []
    },
    "kernelspec": {
      "name": "python3",
      "display_name": "Python 3",
      "language": "python"
    }
  },
  "cells": [
    {
      "cell_type": "markdown",
      "metadata": {
        "id": "gZKDuFEXBN5R"
      },
      "source": [
        "# Insertion Sort"
      ]
    },
    {
      "cell_type": "code",
      "metadata": {
        "id": "y_2viA0XBRBW"
      },
      "source": [
        "def insertion_sort(a):\r\n",
        "    for i in range(1, len(a)):\r\n",
        "        key = a[i]\r\n",
        "        j = i - 1\r\n",
        "        while(j>=0 and a[j]> key):\r\n",
        "            a[j+1] = a[j]\r\n",
        "            j -= 1\r\n",
        "        a[j+1] = key\r\n",
        "\r\n",
        "a = [9, 5, 90, 7, 0, 5]\r\n",
        "insertion_sort(a)"
      ],
      "execution_count": null,
      "outputs": []
    },
    {
      "cell_type": "code",
      "metadata": {
        "id": "FpkKFamKFdLb",
        "colab": {
          "base_uri": "https://localhost:8080/"
        },
        "outputId": "2f98b224-92c1-4bcf-a0da-ed88a781ce72"
      },
      "source": [
        "a"
      ],
      "execution_count": null,
      "outputs": []
    },
    {
      "cell_type": "markdown",
      "metadata": {
        "id": "F-Mr3sJ5FkNh"
      },
      "source": [
        "# Quicksort"
      ]
    },
    {
      "cell_type": "code",
      "metadata": {
        "colab": {
          "base_uri": "https://localhost:8080/"
        },
        "id": "MmccEU8xFRer",
        "outputId": "a1b29d73-3965-4c55-c777-9b8b6da0d265"
      },
      "source": [
        "def partition(a, l, h):\r\n",
        "    pivot = a[h]\r\n",
        "    i = l-1\r\n",
        "    for j in range(l, h):\r\n",
        "        if a[j] <= pivot:\r\n",
        "            i += 1\r\n",
        "            a[i], a[j] = a[j], a[i]\r\n",
        "    a[i+1], a[h] = a[h] , a[i+1]\r\n",
        "\r\n",
        "    return i+1\r\n",
        "\r\n",
        "def quickSort(a, l, h):\r\n",
        "    if l<h:\r\n",
        "        p = partition(a, l, h)\r\n",
        "        quickSort(a,l, p-1)\r\n",
        "        quickSort(a, p+1, h)\r\n",
        "arr = [8, 7, 2, 1, 0, 9, 6]\r\n",
        "high = len(arr) - 1\r\n",
        "low = 0\r\n",
        "quickSort(arr, low, high)\r\n",
        "print(arr)"
      ],
      "execution_count": null,
      "outputs": []
    },
    {
      "source": [
        "# Heap Sort"
      ],
      "cell_type": "markdown",
      "metadata": {}
    },
    {
      "cell_type": "code",
      "execution_count": null,
      "metadata": {
        "tags": [
          "outputPrepend"
        ]
      },
      "outputs": [],
      "source": [
        "import timeit\n",
        "\n",
        "def max_heapify(a, i):\n",
        "    l = 2*i\n",
        "    r = 2*i + 1\n",
        "    \n",
        "    n = len(a)\n",
        "\n",
        "    if l < n and a[l] > a[i]:\n",
        "        largest = l\n",
        "    else:\n",
        "        largest = i\n",
        "    if r < len(a) and a[r] > a[largest]:\n",
        "        largest = r\n",
        "    \n",
        "    if largest != i:\n",
        "        a[i], a[largest] = a[largest], a[i]\n",
        "        max_heapify(a, largest)\n",
        "\n",
        "def build_max_heap(a):\n",
        "    n = len(a)\n",
        "    for i in range(n//2 - 1, -1, -1):\n",
        "        max_heapify(a, i)\n",
        "                                                                                                                                                                                                                                                \n",
        "\n",
        "\n",
        "def extract_max(a):\n",
        "    n = len(a)-1\n",
        "    if len(a) < 1:\n",
        "        print(\"heap underflow\")\n",
        "    else:\n",
        "        max = a[0]\n",
        "        a[0], a[n] = a[n], a[0]\n",
        "        del a[n-1]\n",
        "        max_heapify(a, 0)\n",
        "    return max\n",
        "\n",
        "def heap_sort(a):\n",
        "    build_max_heap(a)\n",
        "    n = len(a)\n",
        "    for i in range(len(a)):\n",
        "        print(a[0])\n",
        "        a[0], a[len(a) - 1] = a[len(a) - 1], a[0]\n",
        "        del a[len(a)-1]\n",
        "        max_heapify(a, 0)\n",
        "\n",
        "start = timeit.default_timer()\n",
        "a = [ x for x in range(10000) ]\n",
        "\n",
        "# build_max_heap(a)\n",
        "# print(a)\n",
        "heap_sort(a)\n",
        "stop = timeit.default_timer()\n",
        "\n",
        "print(f\"the code executed in {stop-start} time\")"
      ]
    },
    {
      "cell_type": "code",
      "execution_count": null,
      "metadata": {},
      "outputs": [],
      "source": []
    }
  ]
}
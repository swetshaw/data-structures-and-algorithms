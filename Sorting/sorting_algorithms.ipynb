{
  "nbformat": 4,
  "nbformat_minor": 0,
  "metadata": {
    "colab": {
      "name": "sorting-algorithms.ipynb",
      "provenance": []
    },
    "kernelspec": {
      "name": "python3",
      "display_name": "Python 3"
    }
  },
  "cells": [
    {
      "cell_type": "markdown",
      "metadata": {
        "id": "gZKDuFEXBN5R"
      },
      "source": [
        "# Insertion Sort"
      ]
    },
    {
      "cell_type": "code",
      "metadata": {
        "id": "y_2viA0XBRBW"
      },
      "source": [
        "def insertion_sort(a):\r\n",
        "    for i in range(1, len(a)):\r\n",
        "        key = a[i]\r\n",
        "        j = i - 1\r\n",
        "        while(j>=0 and a[j]> key):\r\n",
        "            a[j+1] = a[j]\r\n",
        "            j -= 1\r\n",
        "        a[j+1] = key\r\n",
        "\r\n",
        "a = [9, 5, 90, 7, 0, 5]\r\n",
        "insertion_sort(a)"
      ],
      "execution_count": null,
      "outputs": []
    },
    {
      "cell_type": "code",
      "metadata": {
        "id": "FpkKFamKFdLb",
        "colab": {
          "base_uri": "https://localhost:8080/"
        },
        "outputId": "2f98b224-92c1-4bcf-a0da-ed88a781ce72"
      },
      "source": [
        "a"
      ],
      "execution_count": null,
      "outputs": [
        {
          "output_type": "execute_result",
          "data": {
            "text/plain": [
              "[0, 5, 5, 7, 9, 90]"
            ]
          },
          "metadata": {
            "tags": []
          },
          "execution_count": 2
        }
      ]
    },
    {
      "cell_type": "markdown",
      "metadata": {
        "id": "F-Mr3sJ5FkNh"
      },
      "source": [
        "#Quicksort"
      ]
    },
    {
      "cell_type": "code",
      "metadata": {
        "colab": {
          "base_uri": "https://localhost:8080/"
        },
        "id": "MmccEU8xFRer",
        "outputId": "a1b29d73-3965-4c55-c777-9b8b6da0d265"
      },
      "source": [
        "def partition(a, l, h):\r\n",
        "    pivot = a[h]\r\n",
        "    i = l-1\r\n",
        "    for j in range(l, h):\r\n",
        "        if a[j] <= pivot:\r\n",
        "            i += 1\r\n",
        "            a[i], a[j] = a[j], a[i]\r\n",
        "    a[i+1], a[h] = a[h] , a[i+1]\r\n",
        "\r\n",
        "    return i+1\r\n",
        "\r\n",
        "def quickSort(a, l, h):\r\n",
        "    if l<h:\r\n",
        "        p = partition(a, l, h)\r\n",
        "        quickSort(a,l, p-1)\r\n",
        "        quickSort(a, p+1, h)\r\n",
        "arr = [8, 7, 2, 1, 0, 9, 6]\r\n",
        "high = len(arr) - 1\r\n",
        "low = 0\r\n",
        "quickSort(arr, low, high)\r\n",
        "print(arr)"
      ],
      "execution_count": null,
      "outputs": [
        {
          "output_type": "stream",
          "text": [
            "[0, 1, 2, 6, 7, 8, 9]\n"
          ],
          "name": "stdout"
        }
      ]
    }
  ]
}
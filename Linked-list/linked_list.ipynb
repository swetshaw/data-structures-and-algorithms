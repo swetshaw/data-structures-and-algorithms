{
  "nbformat": 4,
  "nbformat_minor": 0,
  "metadata": {
    "colab": {
      "name": "linked-list.ipynb",
      "provenance": [],
      "collapsed_sections": []
    },
    "kernelspec": {
      "name": "python3",
      "display_name": "Python 3"
    }
  },
  "cells": [
    {
      "cell_type": "markdown",
      "metadata": {
        "id": "8hz5qAXW6TVo"
      },
      "source": [
        "Linkded list and Node are represented as a separate class"
      ]
    },
    {
      "cell_type": "code",
      "metadata": {
        "id": "T0hyMffU6IAq"
      },
      "source": [
        "# Node class\r\n",
        "class Node:\r\n",
        "\r\n",
        "    # function to initialize node object\r\n",
        "    def __init__(self, data):\r\n",
        "        self.data = data\r\n",
        "        self.next = None \r\n",
        "\r\n",
        "# Linked list class\r\n",
        "class LinkedList:\r\n",
        "\r\n",
        "    # Initialize the linked list with head pointing to null\r\n",
        "    def __init__(self):\r\n",
        "        self.head = None\r\n",
        "\r\n",
        "        \r\n"
      ],
      "execution_count": null,
      "outputs": []
    },
    {
      "cell_type": "code",
      "metadata": {
        "id": "pyNbPrJpOQYw"
      },
      "source": [
        "# Complete code\r\n",
        "\r\n",
        "# Node class\r\n",
        "class Node:\r\n",
        "\r\n",
        "    # function to initialize node object\r\n",
        "    def __init__(self, data):\r\n",
        "        self.data = data\r\n",
        "        self.next = None \r\n",
        "\r\n",
        "class LinkedList:\r\n",
        "\r\n",
        "    # Initialize the linked list with head pointing to null\r\n",
        "    def __init__(self):\r\n",
        "        self.head = None\r\n",
        "\r\n",
        "    # print the list\r\n",
        "    def printList(self):\r\n",
        "        temp = self.head\r\n",
        "        while(temp):\r\n",
        "            print(temp.data)\r\n",
        "            temp = temp.next\r\n",
        "\r\n",
        "    # Add new node in front\r\n",
        "    def push(self, new_data):\r\n",
        "        new_node = Node(new_data)\r\n",
        "        new_node.next = self.head\r\n",
        "        self.head = new_node\r\n",
        "\r\n",
        "    # add node after a specific node\r\n",
        "    def insertAfter(self, prev_node, new_node):\r\n",
        "        if prev_node is None:\r\n",
        "            print(\"The node must be linkedlist\")\r\n",
        "            return\r\n",
        "\r\n",
        "        new_node.next = prev_node.next\r\n",
        "        prev_node.next = new_node\r\n",
        "\r\n",
        "    # add node at the end\r\n",
        "    def append(self, new_data):\r\n",
        "        new_node = Node(new_data)\r\n",
        "\r\n",
        "        # if the linked list is empty, make the new node as the head\r\n",
        "        if self.head == None:\r\n",
        "            self.head = new_node\r\n",
        "            return\r\n",
        "\r\n",
        "        # traverse until we reach the last node\r\n",
        "        last = self.head\r\n",
        "        while(last.next):\r\n",
        "            last = last.next\r\n",
        "        \r\n",
        "        last.next = new_node\r\n",
        "    \r\n",
        "    # delete node with specific \"key\"   \r\n",
        "    def deleteNode(self, key):\r\n",
        "        temp = self.head\r\n",
        "\r\n",
        "        # check if value of head is equal to key\r\n",
        "        if temp is not None:\r\n",
        "            if temp.data == key:\r\n",
        "                self.head = temp.next\r\n",
        "                temp = None\r\n",
        "                return\r\n",
        "        \r\n",
        "            while(temp is not None):\r\n",
        "                if temp.data == key:\r\n",
        "                    break\r\n",
        "                prev = temp\r\n",
        "                temp = temp.next\r\n",
        "\r\n",
        "            if temp == None:\r\n",
        "                print(f\"Node with {key} doesn't exist\")\r\n",
        "                return\r\n",
        "\r\n",
        "            prev.next = temp.next\r\n",
        "            temp = None\r\n",
        "            \r\n",
        "\r\n",
        "    # Delete a Linked List node at a given position\r\n",
        "    def deleteNodePos(self, pos):\r\n",
        "\r\n",
        "        # if the linked list is empty\r\n",
        "        if self.head == None:\r\n",
        "            print(\"Empty Linked List\")\r\n",
        "            return\r\n",
        "\r\n",
        "        # if head needs to be removed\r\n",
        "        temp = self.head\r\n",
        "        if pos == 0:\r\n",
        "            self.head = temp.next\r\n",
        "            temp = None\r\n",
        "            print(\"Linked list after deletion operation\")\r\n",
        "            self.printList()\r\n",
        "            return\r\n",
        "\r\n",
        "        p = 0\r\n",
        "        while(p != pos):\r\n",
        "            prev = temp\r\n",
        "            temp = temp.next\r\n",
        "            if temp == None:\r\n",
        "                print(\"Position index out of range\")\r\n",
        "                return\r\n",
        "            p += 1\r\n",
        "\r\n",
        "\r\n",
        "        prev.next = temp.next\r\n",
        "        temp = None\r\n",
        "\r\n",
        "        print(\"Linked list after deletion operation\")\r\n",
        "        self.printList()\r\n",
        "\r\n",
        "    # Count the number of nodes in linked list\r\n",
        "    # iterative appproach\r\n",
        "    def countNodes(self):\r\n",
        "        temp = self.head\r\n",
        "        count = 0\r\n",
        "        if temp == None:\r\n",
        "            return 0\r\n",
        "\r\n",
        "        while(temp is not None):\r\n",
        "            temp = temp.next\r\n",
        "            count += 1\r\n",
        "\r\n",
        "        return count\r\n",
        "\r\n",
        "    # Count the number of nodes in linked list\r\n",
        "    # iterative appproach\r\n",
        "    def countNodesRecur(self, node):\r\n",
        "        if not node:\r\n",
        "            return 0\r\n",
        "        else:\r\n",
        "            return 1 + self.countNodesRecur(node.next)\r\n",
        "\r\n",
        "    def countNodesRecursion(self):\r\n",
        "        return self.countNodesRecur(self.head)"
      ],
      "execution_count": null,
      "outputs": []
    },
    {
      "cell_type": "code",
      "metadata": {
        "id": "B1-dYvCwQV-e"
      },
      "source": [
        "llist = LinkedList() # initialized an empty linked list\n",
        "llist.head = Node(1)\n",
        "second = Node(2)\n",
        "third = Node(3)\n",
        "\n",
        "llist.head.next = second\n",
        "second.next = third\n",
        "llist.printList()\n",
        "llist.push(5)\n",
        "llist.printList()\n",
        "llist.append(10)\n",
        "llist.append(20)\n",
        "llist.printList()\n"
      ],
      "execution_count": null,
      "outputs": []
    },
    {
      "cell_type": "code",
      "metadata": {
        "id": "jOGmAYRkGzNs"
      },
      "source": [
        "llist.countNodesRecursion()"
      ],
      "execution_count": null,
      "outputs": []
    },
    {
      "cell_type": "code",
      "metadata": {
        "id": "Oye5lDHjLgG_"
      },
      "source": [
        "llist.deleteNodePos(5)"
      ],
      "execution_count": null,
      "outputs": []
    },
    {
      "cell_type": "code",
      "metadata": {
        "id": "MzOeVazaSfcy"
      },
      "source": [
        "llist.countNodesRecursion()"
      ],
      "execution_count": null,
      "outputs": []
    },
    {
      "cell_type": "code",
      "metadata": {
        "id": "BXc_2h_w39R9"
      },
      "source": [],
      "execution_count": null,
      "outputs": []
    }
  ]
}